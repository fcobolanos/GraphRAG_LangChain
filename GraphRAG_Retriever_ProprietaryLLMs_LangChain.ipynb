{
 "cells": [
  {
   "cell_type": "markdown",
   "metadata": {
    "id": "xB3OyiU14byv"
   },
   "source": [
    "\n",
    "# Print the the graph in Neo4J\n",
    "MATCH (n)\n",
    "OPTIONAL MATCH (n)-[r]-(m)\n",
    "RETURN n, r, m\n",
    "\n",
    "# Delete the the graph in Neo4J\n",
    "MATCH (n)\n",
    "DETACH DELETE n\n",
    "\n"
   ]
  },
  {
   "cell_type": "code",
   "execution_count": null,
   "metadata": {
    "colab": {
     "base_uri": "https://localhost:8080/"
    },
    "id": "usWcdmOr7GAH",
    "outputId": "4c7eaf05-bbda-4e50-822a-3e7219d9d2dd"
   },
   "outputs": [],
   "source": [
    "%pip install --upgrade --quiet  langchain langchain-community langchain-openai langchain-experimental neo4j wikipedia tiktoken yfiles_jupyter_graphs python-dotenv"
   ]
  },
  {
   "cell_type": "code",
   "execution_count": null,
   "metadata": {
    "id": "q8EzdaTJFTbx"
   },
   "outputs": [],
   "source": [
    "from langchain_core.runnables import (RunnableBranch,RunnableLambda,RunnableParallel,RunnablePassthrough,)\n",
    "from langchain_core.prompts import ChatPromptTemplate\n",
    "from langchain_core.prompts.prompt import PromptTemplate\n",
    "from langchain_openai import ChatOpenAI\n",
    "import getpass\n",
    "import os\n",
    "from dotenv import load_dotenv\n",
    "\n",
    "\n",
    "from typing import Tuple, List, Optional\n",
    "from langchain_core.messages import AIMessage, HumanMessage\n",
    "from langchain_core.output_parsers import StrOutputParser\n",
    "from langchain_core.runnables import ConfigurableField\n",
    "from yfiles_jupyter_graphs import GraphWidget\n",
    "from neo4j import GraphDatabase\n",
    "from langchain_community.vectorstores import Neo4jVector\n",
    "from langchain_community.graphs import Neo4jGraph\n",
    "from langchain.document_loaders import WikipediaLoader\n",
    "from langchain_openai import ChatOpenAI\n",
    "from langchain_experimental.graph_transformers import LLMGraphTransformer\n",
    "from langchain_core.pydantic_v1 import BaseModel, Field\n",
    "from langchain_community.vectorstores.neo4j_vector import remove_lucene_chars\n"
   ]
  },
  {
   "cell_type": "code",
   "execution_count": null,
   "metadata": {
    "colab": {
     "base_uri": "https://localhost:8080/"
    },
    "id": "TnGEnkVMeduf",
    "outputId": "e3f835b3-2238-4736-c9fe-46f209000aae"
   },
   "outputs": [],
   "source": [
    "# Load environment variables from .env file\n",
    "load_dotenv()\n",
    "\n",
    "# Set them in the OS environment\n",
    "os.environ[\"OPENAI_API_KEY\"] = os.getenv(\"OPENAI_API_KEY\")\n",
    "os.environ[\"NEO4J_URI\"] = os.getenv(\"NEO4J_URI\")\n",
    "os.environ[\"NEO4J_USERNAME\"] = os.getenv(\"NEO4J_USERNAME\")\n",
    "os.environ[\"NEO4J_PASSWORD\"] = os.getenv(\"NEO4J_PASSWORD\")\n",
    "\n",
    "#Instantiate the Graph DB\n",
    "graph = Neo4jGraph()\n"
   ]
  },
  {
   "cell_type": "code",
   "execution_count": null,
   "metadata": {
    "id": "IMh_IpRb78rs"
   },
   "outputs": [],
   "source": [
    "# It initialise a language model.\n",
    "llm=ChatOpenAI(temperature=0, model_name=\"gpt-4o\")\n"
   ]
  },
  {
   "cell_type": "code",
   "execution_count": null,
   "metadata": {
    "id": "rC-4O5FQ99yH"
   },
   "outputs": [],
   "source": [
    "### Ploting the Graph ###\n",
    "\n",
    "# It finds relationships between nodes where the relationship type is NOT \"MENTIONS\".\n",
    "default_cypher = \"MATCH (s)-[r:!MENTIONS]->(t) RETURN s,r,t LIMIT 50\"\n",
    "#default_cypher = \"MATCH (s)-[r]->(t) WHERE NOT type(r) = 'MENTIONS' RETURN s,r,t LIMIT 50\"\n",
    "\n",
    "# GraphWidget: A visualisation tool for rendering and exploring graphs in Jupyter Notebooks.\n",
    "# GraphDatabase: The official Neo4j driver for querying and updating graph data in a Neo4j database.\n",
    "from yfiles_jupyter_graphs import GraphWidget\n",
    "from neo4j import GraphDatabase\n",
    "\n",
    "\n",
    "# It checks if the script is running in Google Colab and, if so, enable support for custom widgets.\n",
    "try:\n",
    "  import google.colab\n",
    "  from google.colab import output\n",
    "  output.enable_custom_widget_manager()\n",
    "except:\n",
    "  pass\n",
    "\n",
    "# It runs a Cypher query on a Neo4j graph database to retrieve data (nodes and relationships).\n",
    "# It visualises the graph data interactively using GraphWidget from the yfiles_jupyter_graphs library.\n",
    "def showGraph(cypher: str = default_cypher):\n",
    "    # create a neo4j session to run queries\n",
    "    driver = GraphDatabase.driver(\n",
    "        uri = os.environ[\"NEO4J_URI\"],\n",
    "        auth = (os.environ[\"NEO4J_USERNAME\"],\n",
    "                os.environ[\"NEO4J_PASSWORD\"]))\n",
    "    session = driver.session()\n",
    "    widget = GraphWidget(graph = session.run(cypher).graph())\n",
    "    widget.node_label_mapping = 'id'\n",
    "    display(widget)\n",
    "    return widget\n",
    "\n",
    "\n",
    "showGraph()"
   ]
  },
  {
   "cell_type": "code",
   "execution_count": null,
   "metadata": {
    "id": "M_JloAimBlcK"
   },
   "outputs": [],
   "source": [
    "                                                    ### Database Settings ###\n",
    "\n",
    "\n",
    "# It combines OpenAI embeddings with Neo4j graph data to enable hybrid search (a combination of vector similarity search and graph traversal).\n",
    "#  GPT embedding: text-embedding-ada-002.\n",
    "from langchain_openai import OpenAIEmbeddings\n",
    "vector_index = Neo4jVector.from_existing_graph(\n",
    "    OpenAIEmbeddings(),\n",
    "    search_type=\"hybrid\",\n",
    "    node_label=\"Document\",\n",
    "    text_node_properties=[\"text\"],\n",
    "    embedding_node_property=\"embedding\"\n",
    ")"
   ]
  },
  {
   "cell_type": "code",
   "execution_count": null,
   "metadata": {
    "colab": {
     "base_uri": "https://localhost:8080/"
    },
    "id": "e0EXdSStG-Oe",
    "outputId": "5dbafa22-ca16-41c1-ec94-e60c95ff0c8e"
   },
   "outputs": [],
   "source": [
    "                                            ### Structured Data Retriever: Graph ###\n",
    "\n",
    "\n",
    "\n",
    "### 1. Entity Extraction\n",
    "\n",
    "# It creates a full-text search index in a Neo4j graph database for nodes with the label Entity.\n",
    "# Full-text indexes are used to efficiently search text fields, especially when searching for words, phrases, or patterns in text properties.\n",
    "\n",
    "graph.query(\"CREATE FULLTEXT INDEX entity IF NOT EXISTS FOR (e:__Entity__) ON EACH [e.id]\")\n",
    "\n",
    "\n",
    "# It defines a Pydantic model using BaseModel from the langchain_core.pydantic_v1 module. The model, named Entities, is used to structure and validate data related to entities extracted from text.\n",
    "# Extract entities from text\n",
    "class Entities(BaseModel):\n",
    "    \"\"\"Identifying information about entities.\"\"\"\n",
    "\n",
    "    names: List[str] = Field(\n",
    "        ...,\n",
    "        description=\"All the person, organization, or business entities that \"\n",
    "        \"appear in the text\",\n",
    "    )\n",
    "\n",
    "# This template is designed for extracting named entities (organisations and persons) from text.\n",
    "# It defines a structured conversation designed for an AI model to perform entity extraction (specifically for organisations and persons) from a given text input.\n",
    "\n",
    "prompt = ChatPromptTemplate.from_messages(\n",
    "    [\n",
    "        (\n",
    "            \"system\",\n",
    "            \"You are extracting organization and person entities from the text.\",\n",
    "        ),\n",
    "        (\n",
    "            \"human\",\n",
    "            \"Use the given format to extract information from the following \"\n",
    "            \"input: {question}\",\n",
    "        ),\n",
    "    ]\n",
    ")\n",
    "\n",
    "# It creates a \"chain\" or pipeline where:\n",
    "# A prompt (from ChatPromptTemplate) defines the structure of the input or task.\n",
    "# The LLM (e.g., OpenAI's GPT or another model) processes the prompt to generate an output.\n",
    "# The output is returned in a structured format, defined by a class or schema (here, Entities).\n",
    "\n",
    "entity_chain = prompt | llm.with_structured_output(Entities)\n",
    "\n",
    "\n",
    "\n",
    "### 2. Entity Extraction\n",
    "\n",
    "# 2.1 It generates a full-text search query for a given input string\n",
    "def generate_full_text_query(input: str) -> str:\n",
    "    \"\"\"\n",
    "    Generate a full-text search query for a given input string.\n",
    "\n",
    "    This function constructs a query string suitable for a full-text search.\n",
    "    It processes the input string by splitting it into words and appending a\n",
    "    similarity threshold (~2 changed characters) to each word, then combines\n",
    "    them using the AND operator. Useful for mapping entities from user questions\n",
    "    to database values, and allows for some misspelings.\n",
    "    \"\"\"\n",
    "\n",
    "    full_text_query = \"\"\n",
    "    words = [el for el in remove_lucene_chars(input).split() if el]\n",
    "    for word in words[:-1]:\n",
    "        full_text_query += f\" {word}~2 AND\"\n",
    "    full_text_query += f\" {words[-1]}~2\"\n",
    "    return full_text_query.strip()\n",
    "\n",
    "\n",
    "# 2.2 It performs structured retrieval of information from a Neo4j graph database based on an input question. It combines entity extraction, full-text search, and graph traversal to return relationships involving extracted entities.\n",
    "def structured_retriever(question: str) -> str:\n",
    "    result = \"\"\n",
    "    entities = entity_chain.invoke({\"question\": question})\n",
    "    for entity in entities.names:\n",
    "        response = graph.query(\n",
    "            \"\"\"CALL db.index.fulltext.queryNodes('entity', $query, {limit:2})\n",
    "            YIELD node,score\n",
    "            CALL {\n",
    "              WITH node\n",
    "              MATCH (node)-[r:!MENTIONS]->(neighbor)\n",
    "              RETURN node.id + ' - ' + type(r) + ' -> ' + neighbor.id AS output\n",
    "              UNION ALL\n",
    "              WITH node\n",
    "              MATCH (node)<-[r:!MENTIONS]-(neighbor)\n",
    "              RETURN neighbor.id + ' - ' + type(r) + ' -> ' +  node.id AS output\n",
    "            }\n",
    "            RETURN output LIMIT 100\n",
    "            \"\"\",\n",
    "            {\"query\": generate_full_text_query(entity)},\n",
    "        )\n",
    "        #result += \"\\n\".join([el['output'] for el in response])\n",
    "        for el in response:\n",
    "          result += el['output'] + \"\\n\"  # Append to result if needed\n",
    "\n",
    "    return result"
   ]
  },
  {
   "cell_type": "code",
   "execution_count": null,
   "metadata": {},
   "outputs": [],
   "source": [
    "                                            ### Unstructured Data Retriever: Chunks-based ###\n",
    "\n",
    "# It gets the top 15 similar chunks based on the users input\n",
    "def unstructured_retriever(question: str) -> str:\n",
    "    result= [el.page_content for el in vector_index.similarity_search(question, k = 15)]\n",
    "\n",
    "    return result"
   ]
  },
  {
   "cell_type": "code",
   "execution_count": null,
   "metadata": {
    "colab": {
     "base_uri": "https://localhost:8080/"
    },
    "id": "qksArGKrAvie",
    "outputId": "bb3d79cf-4746-4c4a-eba9-62fb5638172a"
   },
   "outputs": [],
   "source": [
    "# Testing Entity Extraction\n",
    "entity_chain.invoke({\"question\": \"The DeepSeek-R1 model provides responses comparable to other contemporary large language models, such as OpenAI's GPT-4o and o1.\"}).names"
   ]
  },
  {
   "cell_type": "code",
   "execution_count": null,
   "metadata": {
    "id": "7gHCkvGKA86t"
   },
   "outputs": [],
   "source": [
    "# Testing Structured Retriever\n",
    "structured_retriever(\"What is DeepSeek?-R1\")"
   ]
  },
  {
   "cell_type": "code",
   "execution_count": null,
   "metadata": {},
   "outputs": [],
   "source": [
    "# Testing Unstructured Retriever\n",
    "unstructured_retriever(\"What is DeepSeek?-R1\")"
   ]
  },
  {
   "cell_type": "code",
   "execution_count": null,
   "metadata": {},
   "outputs": [],
   "source": [
    "                                                        ### Final Retriever ###\n",
    "\n",
    "# It combines structured data retrieval (from a graph database) with unstructured data retrieval (from a vector-based search index).\n",
    "# It creates a unified result containing both types of data for a given question.\n",
    "\n",
    "def retriever(question: str, query_type:str):\n",
    "    print(f\"Search query: {question}\")\n",
    "    if query_type==\"graph\":\n",
    "        structured_data = structured_retriever(question)\n",
    "        final_data = f\"\"\"Structured data:\n",
    "                    {structured_data}\n",
    "                   \"\"\"\n",
    "\n",
    "    if query_type==\"similarity\":\n",
    "        unstructured_data = unstructured_retriever(question)\n",
    "\n",
    "        final_data = f\"\"\"Unstructured data:\n",
    "                        {\"#Document \". join(unstructured_data)}\n",
    "                    \"\"\"\n",
    "        \n",
    "    if query_type==\"hybrid\":\n",
    "        structured_data = structured_retriever(question)\n",
    "        unstructured_data = unstructured_retriever(question)\n",
    "        \n",
    "        final_data = f\"\"\"Structured data:\n",
    "                    {structured_data}\n",
    "                    Unstructured data:\n",
    "                        {\"#Document \". join(unstructured_data)}\n",
    "                    \"\"\"\n",
    "    print(\"RETRIEVER-OUTPUT:\\n\",final_data)\n",
    "    return final_data"
   ]
  },
  {
   "cell_type": "code",
   "execution_count": null,
   "metadata": {
    "colab": {
     "base_uri": "https://localhost:8080/",
     "height": 194
    },
    "id": "XLpjwuK3LpXT",
    "outputId": "1e0e884c-f7ad-4a14-fd8c-165486286794"
   },
   "outputs": [],
   "source": [
    "retriever(\"What is DeepSeek?\",\"graph\")"
   ]
  },
  {
   "cell_type": "code",
   "execution_count": 45,
   "metadata": {
    "id": "nDLnOXBTBFaf"
   },
   "outputs": [],
   "source": [
    "                                                                    ### Generator ###\n",
    "\n",
    "\n",
    "# It defines a template for rephrasing a follow-up question into a standalone question.\n",
    "_template = \"\"\"Given the following conversation and a follow up question, rephrase the follow up question to be a standalone question,\n",
    "in its original language.\n",
    "Chat History:\n",
    "{chat_history}\n",
    "Follow Up Input: {question}\n",
    "Standalone question:\"\"\"\n",
    "\n",
    "\n",
    "# This is part of a workflow where prompts are dynamically formatted for interaction with language models.\n",
    "CONDENSE_QUESTION_PROMPT = PromptTemplate.from_template(_template)\n",
    "\n",
    "# It takes a chat history in the form of a list of conversation turns (between a human and an AI) and converts it into a formatted list of message objects (HumanMessage and AIMessage).\n",
    "def _format_chat_history(chat_history: List[Tuple[str, str]]) -> List:\n",
    "    buffer = []\n",
    "    for human, ai in chat_history:\n",
    "        buffer.append(HumanMessage(content=human))\n",
    "        buffer.append(AIMessage(content=ai))\n",
    "    return buffer\n",
    "\n",
    "\n",
    "# It processes an input query differently based on whether or not the query includes a chat history.\n",
    "_search_query = RunnableBranch(\n",
    "    (\n",
    "        RunnableLambda(lambda x: bool(x.get(\"chat_history\"))).with_config(\n",
    "            run_name=\"HasChatHistoryCheck\"\n",
    "        ),\n",
    "        RunnablePassthrough.assign(\n",
    "            chat_history=lambda x: _format_chat_history(x[\"chat_history\"])\n",
    "        )\n",
    "        | CONDENSE_QUESTION_PROMPT\n",
    "        | ChatOpenAI(temperature=0)\n",
    "        | StrOutputParser()\n",
    "        #| RunnableLambda(lambda question: {\"question\": question, \"query_type\": \"similarity\"})  # Ensure it returns a dictionary\n",
    "        | RunnableLambda(lambda question: {\"question\": question, \"query_type\": query_type})  # Ensure it returns a dictionary\n",
    "\n",
    "    ),\n",
    "    RunnableLambda(lambda x: {\"question\": x[\"question\"], \"query_type\": x[\"query_type\"]})\n",
    ")\n",
    "\n",
    "\n",
    "# It structures input for a language model to answer a question based on provided context.\n",
    "template = \"\"\"Answer the question following these guidelines:\n",
    "\n",
    "- Answer the question based *only* on the provided context.\n",
    "- Make inference based on the provided context, not based on your knowledge.\n",
    "- If the context does not contain enough information, state: \"I do not have enough information to answer your question.\"\n",
    "- If you don't know the answer, state: \"I do not know the answer to your question.\"\n",
    "- Use clear, natural, and professional language in your response.\n",
    "- Avoid making up information or speculating beyond the provided context.\n",
    "- If applicable, provide citations or references to the retrieved context.\n",
    "\n",
    "Context:\n",
    "{context}\n",
    "\n",
    "Question: {question}\n",
    "\n",
    "Answer:\n",
    "\"\"\"\n",
    "\n",
    "\n",
    "# It creates a chat-style prompt template for a conversational AI model by converting the provided template into a ChatPromptTemplate object.\n",
    "prompt = ChatPromptTemplate.from_template(template)\n",
    "\n",
    "# It defines a processing chain using LangChain's RunnableParallel and other components.\n",
    "# The chain integrates multiple steps to answer a question using both context retrieval and language model processing.\n",
    "\n",
    "chain = (\n",
    "    RunnableParallel(\n",
    "        {\n",
    "            \"context\": _search_query | RunnableLambda(lambda x: retriever(x.get(\"question\", \"\"), x.get(\"query_type\", \"\"))), \n",
    "            \"question\": RunnablePassthrough(),\n",
    "        }\n",
    "    )\n",
    "    | prompt\n",
    "    | llm\n",
    "    | StrOutputParser()\n",
    ")"
   ]
  },
  {
   "cell_type": "code",
   "execution_count": 46,
   "metadata": {},
   "outputs": [
    {
     "name": "stdout",
     "output_type": "stream",
     "text": [
      "Search query: What is DeepSeek-R1\n"
     ]
    },
    {
     "name": "stderr",
     "output_type": "stream",
     "text": [
      "Received notification from DBMS server: {severity: WARNING} {code: Neo.ClientNotification.Statement.FeatureDeprecationWarning} {category: DEPRECATION} {title: This feature is deprecated and will be removed in future versions.} {description: CALL subquery without a variable scope clause is now deprecated. Use CALL (node, node) { ... }} {position: line: 3, column: 13, offset: 104} for query: \"CALL db.index.fulltext.queryNodes('entity', $query, {limit:2})\\n            YIELD node,score\\n            CALL {\\n              WITH node\\n              MATCH (node)-[r:!MENTIONS]->(neighbor)\\n              RETURN node.id + ' - ' + type(r) + ' -> ' + neighbor.id AS output\\n              UNION ALL\\n              WITH node\\n              MATCH (node)<-[r:!MENTIONS]-(neighbor)\\n              RETURN neighbor.id + ' - ' + type(r) + ' -> ' +  node.id AS output\\n            }\\n            RETURN output LIMIT 100\\n            \"\n"
     ]
    },
    {
     "name": "stdout",
     "output_type": "stream",
     "text": [
      "RETRIEVER-OUTPUT:\n",
      " Structured data:\n",
      "                    Deepseek-R1 - AFFECTED -> Internet\n",
      "Deepseek-R1 - AFFECTED -> Stock Market\n",
      "Deepseek-R1 - PERFORMED_AS_WELL_OR_BETTER_THAN -> O1\n",
      "Deepseek-R1 - ACCOMPANIED_BY -> Tech Report\n",
      "Deepseek-R1 - LEAVES_OPEN_QUESTION -> Data Collection\n",
      "Deepseek-R1 - LEAVES_OPEN_QUESTION -> Model Training\n",
      "Deepseek-R1 - CONTRIBUTE_TO -> Open-R1\n",
      "Deepseek-R1 - BUILT_ON_THE_FOUNDATION_OF -> Deepseek-V3\n",
      "Deepseek-R1 - BOON -> Community\n",
      "Deepseek-R1-Zero - USED -> Group Relative Policy Optimization\n",
      "Deepseek-R1-Zero - SKIPPED -> Supervised Fine-Tuning\n",
      "Deepseek-R1-Zero - RELIED_ON -> Reinforcement Learning\n",
      "Open-R1 - REPRODUCTION -> Deepseek-R1\n",
      "Open-R1 Project - RECONSTRUCT -> Deepseek-R1\n",
      "Deepseek - INTRODUCED -> Deepseek-R1\n",
      "Reasoning Dataset - FROM -> Deepseek-R1\n",
      "Deepseek - RELEASED -> Deepseek-R1\n",
      "Model Weights - OPEN -> Deepseek-R1\n",
      "Datasets - NOT_OPEN -> Deepseek-R1\n",
      "Code - NOT_OPEN -> Deepseek-R1\n",
      "Deepseek - INTRODUCED -> Deepseek-R1-Zero\n",
      "\n",
      "                   \n"
     ]
    },
    {
     "data": {
      "text/plain": [
       "'Deepseek-R1 is a model or system that has affected the Internet and the Stock Market. It has performed as well or better than another entity referred to as O1 and is accompanied by a Tech Report. It leaves open questions regarding Data Collection and Model Training. Deepseek-R1 contributes to Open-R1 and is built on the foundation of Deepseek-V3. It is considered a boon to the community. Additionally, Deepseek-R1 has been introduced and released by Deepseek, and its model weights are open, while its datasets and code are not open.'"
      ]
     },
     "execution_count": 46,
     "metadata": {},
     "output_type": "execute_result"
    }
   ],
   "source": [
    "# Testing the Generator\n",
    "chain.invoke({\"question\": \"What is DeepSeek-R1\", \"query_type\": \"graph\"})"
   ]
  },
  {
   "cell_type": "code",
   "execution_count": 44,
   "metadata": {
    "colab": {
     "base_uri": "https://localhost:8080/",
     "height": 107
    },
    "id": "b8bO9V_MIBZ5",
    "outputId": "a91142a7-a056-474b-955c-d7e3e2476d66"
   },
   "outputs": [],
   "source": [
    "### Generator with history ###\n",
    "\n",
    "# chain.invoke(\n",
    "#     {\n",
    "#         #\"question\": \"When was she born?\", \"query_type\": \"graph\",\n",
    "#         \"question\": \"What is Open-R1?\", \"query_type\": \"graph\",\n",
    "#         \"chat_history\": [(\"What is DeepSeek-R1?\", \"It is a reasoning LLM.\")],\n",
    "#     }\n",
    "# )"
   ]
  },
  {
   "cell_type": "code",
   "execution_count": null,
   "metadata": {},
   "outputs": [],
   "source": []
  }
 ],
 "metadata": {
  "colab": {
   "provenance": []
  },
  "kernelspec": {
   "display_name": "Python 3 (ipykernel)",
   "language": "python",
   "name": "python3"
  },
  "language_info": {
   "codemirror_mode": {
    "name": "ipython",
    "version": 3
   },
   "file_extension": ".py",
   "mimetype": "text/x-python",
   "name": "python",
   "nbconvert_exporter": "python",
   "pygments_lexer": "ipython3",
   "version": "3.12.2"
  },
  "widgets": {
   "application/vnd.jupyter.widget-state+json": {
    "3b2c74d69a9c494a864829974deef591": {
     "model_module": "yfiles-jupyter-graphs",
     "model_module_version": "^1.10.1",
     "model_name": "GraphModel",
     "state": {
      "_context_pane_mapping": [
       {
        "id": "Neighborhood",
        "title": "Neighborhood"
       },
       {
        "id": "Data",
        "title": "Data"
       },
       {
        "id": "Search",
        "title": "Search"
       },
       {
        "id": "About",
        "title": "About"
       }
      ],
      "_data_importer": "neo4j",
      "_directed": true,
      "_dom_classes": [],
      "_edges": [
       {
        "color": "#F44336",
        "directed": true,
        "end": 118,
        "id": 1152955589467308000,
        "label": "MEMBER_OF",
        "properties": {
         "label": "MEMBER_OF"
        },
        "start": 115,
        "styles": {},
        "thickness_factor": 1
       },
       {
        "color": "#607D8B",
        "directed": true,
        "end": 116,
        "id": 1152956688978935800,
        "label": "CHILD_OF",
        "properties": {
         "label": "CHILD_OF"
        },
        "start": 115,
        "styles": {},
        "thickness_factor": 1
       },
       {
        "color": "#607D8B",
        "directed": true,
        "end": 117,
        "id": 1155208488792621000,
        "label": "CHILD_OF",
        "properties": {
         "label": "CHILD_OF"
        },
        "start": 115,
        "styles": {},
        "thickness_factor": 1
       },
       {
        "color": "#673AB7",
        "directed": true,
        "end": 120,
        "id": 1152959987513819100,
        "label": "SIBLING_OF",
        "properties": {
         "label": "SIBLING_OF"
        },
        "start": 115,
        "styles": {},
        "thickness_factor": 1
       },
       {
        "color": "#673AB7",
        "directed": true,
        "end": 122,
        "id": 1155211787327504400,
        "label": "SIBLING_OF",
        "properties": {
         "label": "SIBLING_OF"
        },
        "start": 115,
        "styles": {},
        "thickness_factor": 1
       },
       {
        "color": "#CDDC39",
        "directed": true,
        "end": 123,
        "id": 1152963286048702500,
        "label": "ADVISED_BY",
        "properties": {
         "label": "ADVISED_BY"
        },
        "start": 115,
        "styles": {},
        "thickness_factor": 1
       },
       {
        "color": "#9E9E9E",
        "directed": true,
        "end": 126,
        "id": 1152966584583585800,
        "label": "SUCCEEDED_BY",
        "properties": {
         "label": "SUCCEEDED_BY"
        },
        "start": 115,
        "styles": {},
        "thickness_factor": 1
       },
       {
        "color": "#9C27B0",
        "directed": true,
        "end": 128,
        "id": 1152967684095213600,
        "label": "PROTECTED_BY",
        "properties": {
         "label": "PROTECTED_BY"
        },
        "start": 115,
        "styles": {},
        "thickness_factor": 1
       },
       {
        "color": "#2196F3",
        "directed": true,
        "end": 122,
        "id": 6917632381734093000,
        "label": "SUCCEEDED",
        "properties": {
         "label": "SUCCEEDED"
        },
        "start": 115,
        "styles": {},
        "thickness_factor": 1
       },
       {
        "color": "#4CAF50",
        "directed": true,
        "end": 201,
        "id": 6917662068548043000,
        "label": "CORONATION_LOCATION",
        "properties": {
         "label": "CORONATION_LOCATION"
        },
        "start": 115,
        "styles": {},
        "thickness_factor": 1
       },
       {
        "color": "#F44336",
        "directed": true,
        "end": 202,
        "id": 6917663168059671000,
        "label": "CORONATION_DATE",
        "properties": {
         "label": "CORONATION_DATE"
        },
        "start": 115,
        "styles": {},
        "thickness_factor": 1
       },
       {
        "color": "#607D8B",
        "directed": true,
        "end": 129,
        "id": 6917820398222442000,
        "label": "TITLE",
        "properties": {
         "label": "TITLE"
        },
        "start": 115,
        "styles": {},
        "thickness_factor": 1
       },
       {
        "color": "#673AB7",
        "directed": true,
        "end": 119,
        "id": 1153213974699835400,
        "label": "NAMESAKE_OF",
        "properties": {
         "label": "NAMESAKE_OF"
        },
        "start": 115,
        "styles": {},
        "thickness_factor": 1
       },
       {
        "color": "#CDDC39",
        "directed": true,
        "end": 125,
        "id": 1153215074211463200,
        "label": "FOUNDER_OF",
        "properties": {
         "label": "FOUNDER_OF"
        },
        "start": 115,
        "styles": {},
        "thickness_factor": 1
       },
       {
        "color": "#9E9E9E",
        "directed": true,
        "end": 129,
        "id": 6917830293827092000,
        "label": "ASCENDED",
        "properties": {
         "label": "ASCENDED"
        },
        "start": 115,
        "styles": {},
        "thickness_factor": 1
       },
       {
        "color": "#9C27B0",
        "directed": true,
        "end": 205,
        "id": 6917832492850348000,
        "label": "INTENTION_TO_RESTORE",
        "properties": {
         "label": "INTENTION_TO_RESTORE"
        },
        "start": 115,
        "styles": {},
        "thickness_factor": 1
       },
       {
        "color": "#2196F3",
        "directed": true,
        "end": 206,
        "id": 6917833592361976000,
        "label": "COMPROMISE",
        "properties": {
         "label": "COMPROMISE"
        },
        "start": 115,
        "styles": {},
        "thickness_factor": 1
       },
       {
        "color": "#4CAF50",
        "directed": true,
        "end": 207,
        "id": 6917834691873604000,
        "label": "LOCATION_AT_ACCESSION",
        "properties": {
         "label": "LOCATION_AT_ACCESSION"
        },
        "start": 115,
        "styles": {},
        "thickness_factor": 1
       },
       {
        "color": "#F44336",
        "directed": true,
        "end": 125,
        "id": 1153191984467280000,
        "label": "ESTABLISHED",
        "properties": {
         "label": "ESTABLISHED"
        },
        "start": 116,
        "styles": {},
        "thickness_factor": 1
       },
       {
        "color": "#607D8B",
        "directed": true,
        "end": 140,
        "id": 1152974281164980200,
        "label": "MARITIME_ADVENTURER",
        "properties": {
         "label": "MARITIME_ADVENTURER"
        },
        "start": 119,
        "styles": {},
        "thickness_factor": 1
       },
       {
        "color": "#607D8B",
        "directed": true,
        "end": 141,
        "id": 1155226080978665500,
        "label": "MARITIME_ADVENTURER",
        "properties": {
         "label": "MARITIME_ADVENTURER"
        },
        "start": 119,
        "styles": {},
        "thickness_factor": 1
       },
       {
        "color": "#673AB7",
        "directed": true,
        "end": 138,
        "id": 1153220571769602000,
        "label": "LED_BY",
        "properties": {
         "label": "LED_BY"
        },
        "start": 119,
        "styles": {},
        "thickness_factor": 1
       },
       {
        "color": "#673AB7",
        "directed": true,
        "end": 139,
        "id": 1155472371583287300,
        "label": "LED_BY",
        "properties": {
         "label": "LED_BY"
        },
        "start": 119,
        "styles": {},
        "thickness_factor": 1
       },
       {
        "color": "#CDDC39",
        "directed": true,
        "end": 205,
        "id": 1153193083978907600,
        "label": "CONTINUED_REFORMS",
        "properties": {
         "label": "CONTINUED_REFORMS"
        },
        "start": 120,
        "styles": {},
        "thickness_factor": 1
       },
       {
        "color": "#9E9E9E",
        "directed": true,
        "end": 203,
        "id": 1152922604118474800,
        "label": "DEATH_DATE",
        "properties": {
         "label": "DEATH_DATE"
        },
        "start": 122,
        "styles": {},
        "thickness_factor": 1
       },
       {
        "color": "#9C27B0",
        "directed": true,
        "end": 204,
        "id": 1153194183490535400,
        "label": "RESTORED",
        "properties": {
         "label": "RESTORED"
        },
        "start": 122,
        "styles": {},
        "thickness_factor": 1
       },
       {
        "color": "#2196F3",
        "directed": true,
        "end": 204,
        "id": 1153223870304485400,
        "label": "AFFILIATION",
        "properties": {
         "label": "AFFILIATION"
        },
        "start": 122,
        "styles": {},
        "thickness_factor": 1
       },
       {
        "color": "#607D8B",
        "directed": true,
        "end": 124,
        "id": 1153212875188207600,
        "label": "TITLE",
        "properties": {
         "label": "TITLE"
        },
        "start": 123,
        "styles": {},
        "thickness_factor": 1
       },
       {
        "color": "#607D8B",
        "directed": true,
        "end": 127,
        "id": 1152956688978935800,
        "label": "CHILD_OF",
        "properties": {
         "label": "CHILD_OF"
        },
        "start": 126,
        "styles": {},
        "thickness_factor": 1
       },
       {
        "color": "#4CAF50",
        "directed": true,
        "end": 146,
        "id": 1152921504606847200,
        "label": "BIRTH_DATE",
        "properties": {
         "label": "BIRTH_DATE"
        },
        "start": 131,
        "styles": {},
        "thickness_factor": 1
       },
       {
        "color": "#607D8B",
        "directed": true,
        "end": 144,
        "id": 1152956688978936000,
        "label": "CHILD_OF",
        "properties": {
         "label": "CHILD_OF"
        },
        "start": 131,
        "styles": {},
        "thickness_factor": 1
       },
       {
        "color": "#607D8B",
        "directed": true,
        "end": 191,
        "id": 6917564212013171000,
        "label": "CHILD_OF",
        "properties": {
         "label": "CHILD_OF"
        },
        "start": 131,
        "styles": {},
        "thickness_factor": 1
       },
       {
        "color": "#607D8B",
        "directed": true,
        "end": 192,
        "id": 6917564212013171000,
        "label": "CHILD_OF",
        "properties": {
         "label": "CHILD_OF"
        },
        "start": 131,
        "styles": {},
        "thickness_factor": 1
       },
       {
        "color": "#673AB7",
        "directed": true,
        "end": 154,
        "id": 6917567510548054000,
        "label": "SIBLING_OF",
        "properties": {
         "label": "SIBLING_OF"
        },
        "start": 131,
        "styles": {},
        "thickness_factor": 1
       },
       {
        "color": "#673AB7",
        "directed": true,
        "end": 198,
        "id": 6917567510548054000,
        "label": "SIBLING_OF",
        "properties": {
         "label": "SIBLING_OF"
        },
        "start": 131,
        "styles": {},
        "thickness_factor": 1
       },
       {
        "color": "#F44336",
        "directed": true,
        "end": 142,
        "id": 1152976480188236000,
        "label": "NAMED_AFTER",
        "properties": {
         "label": "NAMED_AFTER"
        },
        "start": 131,
        "styles": {},
        "thickness_factor": 1
       },
       {
        "color": "#F44336",
        "directed": true,
        "end": 143,
        "id": 1155228280001921300,
        "label": "NAMED_AFTER",
        "properties": {
         "label": "NAMED_AFTER"
        },
        "start": 131,
        "styles": {},
        "thickness_factor": 1
       },
       {
        "color": "#607D8B",
        "directed": true,
        "end": 145,
        "id": 1152991873351025000,
        "label": "BORN_IN",
        "properties": {
         "label": "BORN_IN"
        },
        "start": 131,
        "styles": {},
        "thickness_factor": 1
       },
       {
        "color": "#673AB7",
        "directed": true,
        "end": 190,
        "id": 6917600495896887000,
        "label": "BORN_NEAR",
        "properties": {
         "label": "BORN_NEAR"
        },
        "start": 131,
        "styles": {},
        "thickness_factor": 1
       },
       {
        "color": "#CDDC39",
        "directed": true,
        "end": 197,
        "id": 6917609291989910000,
        "label": "GIVEN_TITLE",
        "properties": {
         "label": "GIVEN_TITLE"
        },
        "start": 131,
        "styles": {},
        "thickness_factor": 1
       },
       {
        "color": "#9E9E9E",
        "directed": true,
        "end": 189,
        "id": 6917644476361998000,
        "label": "BORN_AT",
        "properties": {
         "label": "BORN_AT"
        },
        "start": 131,
        "styles": {},
        "thickness_factor": 1
       },
       {
        "color": "#9C27B0",
        "directed": true,
        "end": 132,
        "id": 1155332733606560000,
        "label": "SUPPORTED_CAMPAIGNS_IN",
        "properties": {
         "label": "SUPPORTED_CAMPAIGNS_IN"
        },
        "start": 131,
        "styles": {},
        "thickness_factor": 1
       },
       {
        "color": "#9C27B0",
        "directed": true,
        "end": 134,
        "id": 1153080933792874800,
        "label": "SUPPORTED_CAMPAIGNS_IN",
        "properties": {
         "label": "SUPPORTED_CAMPAIGNS_IN"
        },
        "start": 131,
        "styles": {},
        "thickness_factor": 1
       },
       {
        "color": "#9C27B0",
        "directed": true,
        "end": 135,
        "id": 1157584533420245200,
        "label": "SUPPORTED_CAMPAIGNS_IN",
        "properties": {
         "label": "SUPPORTED_CAMPAIGNS_IN"
        },
        "start": 131,
        "styles": {},
        "thickness_factor": 1
       },
       {
        "color": "#2196F3",
        "directed": true,
        "end": 212,
        "id": 6917701650966643000,
        "label": "CONSULTED",
        "properties": {
         "label": "CONSULTED"
        },
        "start": 131,
        "styles": {},
        "thickness_factor": 1
       },
       {
        "color": "#4CAF50",
        "directed": true,
        "end": 215,
        "id": 6917812701641048000,
        "label": "PARTICIPATED_IN",
        "properties": {
         "label": "PARTICIPATED_IN"
        },
        "start": 131,
        "styles": {},
        "thickness_factor": 1
       },
       {
        "color": "#F44336",
        "directed": true,
        "end": 128,
        "id": 1153216173723091200,
        "label": "RUN_BY",
        "properties": {
         "label": "RUN_BY"
        },
        "start": 131,
        "styles": {},
        "thickness_factor": 1
       },
       {
        "color": "#607D8B",
        "directed": true,
        "end": 132,
        "id": 1153217273234719000,
        "label": "MANOEUVRING_BETWEEN",
        "properties": {
         "label": "MANOEUVRING_BETWEEN"
        },
        "start": 131,
        "styles": {},
        "thickness_factor": 1
       },
       {
        "color": "#607D8B",
        "directed": true,
        "end": 133,
        "id": 1155469073048404200,
        "label": "MANOEUVRING_BETWEEN",
        "properties": {
         "label": "MANOEUVRING_BETWEEN"
        },
        "start": 131,
        "styles": {},
        "thickness_factor": 1
       },
       {
        "color": "#673AB7",
        "directed": true,
        "end": 137,
        "id": 1153219472257974500,
        "label": "DEFEATED",
        "properties": {
         "label": "DEFEATED"
        },
        "start": 131,
        "styles": {},
        "thickness_factor": 1
       }
      ],
      "_graph_layout": {},
      "_highlight": [],
      "_license": {},
      "_model_module": "yfiles-jupyter-graphs",
      "_model_module_version": "^1.10.1",
      "_model_name": "GraphModel",
      "_neighborhood": {},
      "_nodes": [
       {
        "color": "#2196F3",
        "id": 115,
        "label": "Elizabeth I",
        "position": [
         0,
         0
        ],
        "properties": {
         "id": "Elizabeth I",
         "label": "Person:__Entity__"
        },
        "scale_factor": 1,
        "size": [
         55,
         55
        ],
        "styles": {},
        "type": "#2196F3"
       },
       {
        "color": "#4CAF50",
        "id": 118,
        "label": "House Of Tudor",
        "position": [
         0,
         0
        ],
        "properties": {
         "id": "House Of Tudor",
         "label": "Organization:__Entity__"
        },
        "scale_factor": 1,
        "size": [
         55,
         55
        ],
        "styles": {},
        "type": "#4CAF50"
       },
       {
        "color": "#2196F3",
        "id": 116,
        "label": "Henry Viii",
        "position": [
         0,
         0
        ],
        "properties": {
         "id": "Henry Viii",
         "label": "Person:__Entity__"
        },
        "scale_factor": 1,
        "size": [
         55,
         55
        ],
        "styles": {},
        "type": "#2196F3"
       },
       {
        "color": "#2196F3",
        "id": 117,
        "label": "Anne Boleyn",
        "position": [
         0,
         0
        ],
        "properties": {
         "id": "Anne Boleyn",
         "label": "Person:__Entity__"
        },
        "scale_factor": 1,
        "size": [
         55,
         55
        ],
        "styles": {},
        "type": "#2196F3"
       },
       {
        "color": "#2196F3",
        "id": 120,
        "label": "Edward Vi",
        "position": [
         0,
         0
        ],
        "properties": {
         "id": "Edward Vi",
         "label": "Person:__Entity__"
        },
        "scale_factor": 1,
        "size": [
         55,
         55
        ],
        "styles": {},
        "type": "#2196F3"
       },
       {
        "color": "#2196F3",
        "id": 122,
        "label": "Mary I",
        "position": [
         0,
         0
        ],
        "properties": {
         "id": "Mary I",
         "label": "Person:__Entity__"
        },
        "scale_factor": 1,
        "size": [
         55,
         55
        ],
        "styles": {},
        "type": "#2196F3"
       },
       {
        "color": "#2196F3",
        "id": 123,
        "label": "William Cecil",
        "position": [
         0,
         0
        ],
        "properties": {
         "id": "William Cecil",
         "label": "Person:__Entity__"
        },
        "scale_factor": 1,
        "size": [
         55,
         55
        ],
        "styles": {},
        "type": "#2196F3"
       },
       {
        "color": "#2196F3",
        "id": 126,
        "label": "James Vi Of Scotland",
        "position": [
         0,
         0
        ],
        "properties": {
         "id": "James Vi Of Scotland",
         "label": "Person:__Entity__"
        },
        "scale_factor": 1,
        "size": [
         55,
         55
        ],
        "styles": {},
        "type": "#2196F3"
       },
       {
        "color": "#2196F3",
        "id": 128,
        "label": "Sir Francis Walsingham",
        "position": [
         0,
         0
        ],
        "properties": {
         "id": "Sir Francis Walsingham",
         "label": "Person:__Entity__"
        },
        "scale_factor": 1,
        "size": [
         55,
         55
        ],
        "styles": {},
        "type": "#2196F3"
       },
       {
        "color": "#F44336",
        "id": 201,
        "label": "Westminster Abbey, London",
        "position": [
         0,
         0
        ],
        "properties": {
         "id": "Westminster Abbey, London",
         "label": "Location:__Entity__"
        },
        "scale_factor": 1,
        "size": [
         55,
         55
        ],
        "styles": {},
        "type": "#F44336"
       },
       {
        "color": "#607D8B",
        "id": 202,
        "label": "15 January 1559",
        "position": [
         0,
         0
        ],
        "properties": {
         "id": "15 January 1559",
         "label": "Date:__Entity__"
        },
        "scale_factor": 1,
        "size": [
         55,
         55
        ],
        "styles": {},
        "type": "#607D8B"
       },
       {
        "color": "#673AB7",
        "id": 129,
        "label": "Queen Of England And Ireland",
        "position": [
         0,
         0
        ],
        "properties": {
         "id": "Queen Of England And Ireland",
         "label": "Title:__Entity__"
        },
        "scale_factor": 1,
        "size": [
         55,
         55
        ],
        "styles": {},
        "type": "#673AB7"
       },
       {
        "color": "#CDDC39",
        "id": 119,
        "label": "Elizabethan Era",
        "position": [
         0,
         0
        ],
        "properties": {
         "id": "Elizabethan Era",
         "label": "Time period:Event:__Entity__"
        },
        "scale_factor": 1,
        "size": [
         55,
         55
        ],
        "styles": {},
        "type": "#CDDC39"
       },
       {
        "color": "#4CAF50",
        "id": 125,
        "label": "Church Of England",
        "position": [
         0,
         0
        ],
        "properties": {
         "id": "Church Of England",
         "label": "Organization:__Entity__"
        },
        "scale_factor": 1,
        "size": [
         55,
         55
        ],
        "styles": {},
        "type": "#4CAF50"
       },
       {
        "color": "#9E9E9E",
        "id": 205,
        "label": "Protestantism",
        "position": [
         0,
         0
        ],
        "properties": {
         "id": "Protestantism",
         "label": "Religion:__Entity__"
        },
        "scale_factor": 1,
        "size": [
         55,
         55
        ],
        "styles": {},
        "type": "#9E9E9E"
       },
       {
        "color": "#9C27B0",
        "id": 206,
        "label": "Elizabethan Settlement",
        "position": [
         0,
         0
        ],
        "properties": {
         "id": "Elizabethan Settlement",
         "label": "Event:__Entity__"
        },
        "scale_factor": 1,
        "size": [
         55,
         55
        ],
        "styles": {},
        "type": "#9C27B0"
       },
       {
        "color": "#F44336",
        "id": 207,
        "label": "Hatfield House",
        "position": [
         0,
         0
        ],
        "properties": {
         "id": "Hatfield House",
         "label": "Location:__Entity__"
        },
        "scale_factor": 1,
        "size": [
         55,
         55
        ],
        "styles": {},
        "type": "#F44336"
       },
       {
        "color": "#2196F3",
        "id": 140,
        "label": "Francis Drake",
        "position": [
         0,
         0
        ],
        "properties": {
         "id": "Francis Drake",
         "label": "Person:__Entity__"
        },
        "scale_factor": 1,
        "size": [
         55,
         55
        ],
        "styles": {},
        "type": "#2196F3"
       },
       {
        "color": "#2196F3",
        "id": 141,
        "label": "Walter Raleigh",
        "position": [
         0,
         0
        ],
        "properties": {
         "id": "Walter Raleigh",
         "label": "Person:__Entity__"
        },
        "scale_factor": 1,
        "size": [
         55,
         55
        ],
        "styles": {},
        "type": "#2196F3"
       },
       {
        "color": "#2196F3",
        "id": 138,
        "label": "William Shakespeare",
        "position": [
         0,
         0
        ],
        "properties": {
         "id": "William Shakespeare",
         "label": "Person:__Entity__"
        },
        "scale_factor": 1,
        "size": [
         55,
         55
        ],
        "styles": {},
        "type": "#2196F3"
       },
       {
        "color": "#2196F3",
        "id": 139,
        "label": "Christopher Marlowe",
        "position": [
         0,
         0
        ],
        "properties": {
         "id": "Christopher Marlowe",
         "label": "Person:__Entity__"
        },
        "scale_factor": 1,
        "size": [
         55,
         55
        ],
        "styles": {},
        "type": "#2196F3"
       },
       {
        "color": "#607D8B",
        "id": 203,
        "label": "17 November 1558",
        "position": [
         0,
         0
        ],
        "properties": {
         "id": "17 November 1558",
         "label": "Date:__Entity__"
        },
        "scale_factor": 1,
        "size": [
         55,
         55
        ],
        "styles": {},
        "type": "#607D8B"
       },
       {
        "color": "#4CAF50",
        "id": 204,
        "label": "Catholic Church",
        "position": [
         0,
         0
        ],
        "properties": {
         "id": "Catholic Church",
         "label": "Organization:__Entity__"
        },
        "scale_factor": 1,
        "size": [
         55,
         55
        ],
        "styles": {},
        "type": "#4CAF50"
       },
       {
        "color": "#673AB7",
        "id": 124,
        "label": "Baron Burghley",
        "position": [
         0,
         0
        ],
        "properties": {
         "id": "Baron Burghley",
         "label": "Title:__Entity__"
        },
        "scale_factor": 1,
        "size": [
         55,
         55
        ],
        "styles": {},
        "type": "#673AB7"
       },
       {
        "color": "#2196F3",
        "id": 127,
        "label": "Mary, Queen Of Scots",
        "position": [
         0,
         0
        ],
        "properties": {
         "id": "Mary, Queen Of Scots",
         "label": "Person:__Entity__"
        },
        "scale_factor": 1,
        "size": [
         55,
         55
        ],
        "styles": {},
        "type": "#2196F3"
       },
       {
        "color": "#2196F3",
        "id": 131,
        "label": "Elizabeth",
        "position": [
         0,
         0
        ],
        "properties": {
         "id": "Elizabeth",
         "label": "Person:__Entity__"
        },
        "scale_factor": 1,
        "size": [
         55,
         55
        ],
        "styles": {},
        "type": "#2196F3"
       },
       {
        "color": "#607D8B",
        "id": 146,
        "label": "7 September 1533",
        "position": [
         0,
         0
        ],
        "properties": {
         "id": "7 September 1533",
         "label": "Date:__Entity__"
        },
        "scale_factor": 1,
        "size": [
         55,
         55
        ],
        "styles": {},
        "type": "#607D8B"
       },
       {
        "color": "#2196F3",
        "id": 144,
        "label": "Henry Viii Of England",
        "position": [
         0,
         0
        ],
        "properties": {
         "id": "Henry Viii Of England",
         "label": "Person:__Entity__"
        },
        "scale_factor": 1,
        "size": [
         55,
         55
        ],
        "styles": {},
        "type": "#2196F3"
       },
       {
        "color": "#2196F3",
        "id": 191,
        "label": "Peter The Great",
        "position": [
         0,
         0
        ],
        "properties": {
         "id": "Peter The Great",
         "label": "Person:__Entity__"
        },
        "scale_factor": 1,
        "size": [
         55,
         55
        ],
        "styles": {},
        "type": "#2196F3"
       },
       {
        "color": "#2196F3",
        "id": 192,
        "label": "Catherine",
        "position": [
         0,
         0
        ],
        "properties": {
         "id": "Catherine",
         "label": "Person:__Entity__"
        },
        "scale_factor": 1,
        "size": [
         55,
         55
        ],
        "styles": {},
        "type": "#2196F3"
       },
       {
        "color": "#2196F3",
        "id": 154,
        "label": "Anna",
        "position": [
         0,
         0
        ],
        "properties": {
         "id": "Anna",
         "label": "Person:__Entity__"
        },
        "scale_factor": 1,
        "size": [
         55,
         55
        ],
        "styles": {},
        "type": "#2196F3"
       },
       {
        "color": "#2196F3",
        "id": 198,
        "label": "Alexei Petrovich",
        "position": [
         0,
         0
        ],
        "properties": {
         "id": "Alexei Petrovich",
         "label": "Person:__Entity__"
        },
        "scale_factor": 1,
        "size": [
         55,
         55
        ],
        "styles": {},
        "type": "#2196F3"
       },
       {
        "color": "#2196F3",
        "id": 142,
        "label": "Elizabeth Of York",
        "position": [
         0,
         0
        ],
        "properties": {
         "id": "Elizabeth Of York",
         "label": "Person:__Entity__"
        },
        "scale_factor": 1,
        "size": [
         55,
         55
        ],
        "styles": {},
        "type": "#2196F3"
       },
       {
        "color": "#2196F3",
        "id": 143,
        "label": "Lady Elizabeth Howard",
        "position": [
         0,
         0
        ],
        "properties": {
         "id": "Lady Elizabeth Howard",
         "label": "Person:__Entity__"
        },
        "scale_factor": 1,
        "size": [
         55,
         55
        ],
        "styles": {},
        "type": "#2196F3"
       },
       {
        "color": "#2196F3",
        "id": 145,
        "label": "Greenwich Palace",
        "position": [
         0,
         0
        ],
        "properties": {
         "id": "Greenwich Palace",
         "label": "Place:__Entity__"
        },
        "scale_factor": 1,
        "size": [
         55,
         55
        ],
        "styles": {},
        "type": "#2196F3"
       },
       {
        "color": "#2196F3",
        "id": 190,
        "label": "Moscow",
        "position": [
         0,
         0
        ],
        "properties": {
         "id": "Moscow",
         "label": "Place:__Entity__"
        },
        "scale_factor": 1,
        "size": [
         55,
         55
        ],
        "styles": {},
        "type": "#2196F3"
       },
       {
        "color": "#673AB7",
        "id": 197,
        "label": "Tsarevna",
        "position": [
         0,
         0
        ],
        "properties": {
         "id": "Tsarevna",
         "label": "Title:__Entity__"
        },
        "scale_factor": 1,
        "size": [
         55,
         55
        ],
        "styles": {},
        "type": "#673AB7"
       },
       {
        "color": "#2196F3",
        "id": 189,
        "label": "Kolomenskoye",
        "position": [
         0,
         0
        ],
        "properties": {
         "id": "Kolomenskoye",
         "label": "Place:__Entity__"
        },
        "scale_factor": 1,
        "size": [
         55,
         55
        ],
        "styles": {},
        "type": "#2196F3"
       },
       {
        "color": "#4CAF50",
        "id": 132,
        "label": "France",
        "position": [
         0,
         0
        ],
        "properties": {
         "id": "France",
         "label": "Country:__Entity__"
        },
        "scale_factor": 1,
        "size": [
         55,
         55
        ],
        "styles": {},
        "type": "#4CAF50"
       },
       {
        "color": "#4CAF50",
        "id": 134,
        "label": "Netherlands",
        "position": [
         0,
         0
        ],
        "properties": {
         "id": "Netherlands",
         "label": "Country:__Entity__"
        },
        "scale_factor": 1,
        "size": [
         55,
         55
        ],
        "styles": {},
        "type": "#4CAF50"
       },
       {
        "color": "#4CAF50",
        "id": 135,
        "label": "Ireland",
        "position": [
         0,
         0
        ],
        "properties": {
         "id": "Ireland",
         "label": "Country:__Entity__"
        },
        "scale_factor": 1,
        "size": [
         55,
         55
        ],
        "styles": {},
        "type": "#4CAF50"
       },
       {
        "color": "#2196F3",
        "id": 212,
        "label": "Sir Nicholas Bacon",
        "position": [
         0,
         0
        ],
        "properties": {
         "id": "Sir Nicholas Bacon",
         "label": "Person:__Entity__"
        },
        "scale_factor": 1,
        "size": [
         55,
         55
        ],
        "styles": {},
        "type": "#2196F3"
       },
       {
        "color": "#9C27B0",
        "id": 215,
        "label": "Coronation",
        "position": [
         0,
         0
        ],
        "properties": {
         "id": "Coronation",
         "label": "Event:__Entity__"
        },
        "scale_factor": 1,
        "size": [
         55,
         55
        ],
        "styles": {},
        "type": "#9C27B0"
       },
       {
        "color": "#4CAF50",
        "id": 133,
        "label": "Spain",
        "position": [
         0,
         0
        ],
        "properties": {
         "id": "Spain",
         "label": "Country:__Entity__"
        },
        "scale_factor": 1,
        "size": [
         55,
         55
        ],
        "styles": {},
        "type": "#4CAF50"
       },
       {
        "color": "#9C27B0",
        "id": 137,
        "label": "Spanish Armada",
        "position": [
         0,
         0
        ],
        "properties": {
         "id": "Spanish Armada",
         "label": "Event:__Entity__"
        },
        "scale_factor": 1,
        "size": [
         55,
         55
        ],
        "styles": {},
        "type": "#9C27B0"
       }
      ],
      "_overview": {
       "enabled": null,
       "overview_set": false
      },
      "_selected_graph": [
       [],
       []
      ],
      "_sidebar": {
       "enabled": false,
       "start_with": null
      },
      "_view_count": null,
      "_view_module": "yfiles-jupyter-graphs",
      "_view_module_version": "^1.10.1",
      "_view_name": "GraphView",
      "layout": "IPY_MODEL_f11152ccad304d30945213df30029f44",
      "tabbable": null,
      "tooltip": null
     }
    },
    "f11152ccad304d30945213df30029f44": {
     "model_module": "@jupyter-widgets/base",
     "model_module_version": "2.0.0",
     "model_name": "LayoutModel",
     "state": {
      "_model_module": "@jupyter-widgets/base",
      "_model_module_version": "2.0.0",
      "_model_name": "LayoutModel",
      "_view_count": null,
      "_view_module": "@jupyter-widgets/base",
      "_view_module_version": "2.0.0",
      "_view_name": "LayoutView",
      "align_content": null,
      "align_items": null,
      "align_self": null,
      "border_bottom": null,
      "border_left": null,
      "border_right": null,
      "border_top": null,
      "bottom": null,
      "display": null,
      "flex": null,
      "flex_flow": null,
      "grid_area": null,
      "grid_auto_columns": null,
      "grid_auto_flow": null,
      "grid_auto_rows": null,
      "grid_column": null,
      "grid_gap": null,
      "grid_row": null,
      "grid_template_areas": null,
      "grid_template_columns": null,
      "grid_template_rows": null,
      "height": "800px",
      "justify_content": null,
      "justify_items": null,
      "left": null,
      "margin": null,
      "max_height": null,
      "max_width": null,
      "min_height": null,
      "min_width": null,
      "object_fit": null,
      "object_position": null,
      "order": null,
      "overflow": null,
      "padding": null,
      "right": null,
      "top": null,
      "visibility": null,
      "width": "100%"
     }
    }
   }
  }
 },
 "nbformat": 4,
 "nbformat_minor": 4
}
