{
 "cells": [
  {
   "cell_type": "markdown",
   "metadata": {
    "id": "xB3OyiU14byv"
   },
   "source": [
    "\n",
    "# Print the the graph in Neo4J\n",
    "MATCH (n)\n",
    "OPTIONAL MATCH (n)-[r]-(m)\n",
    "RETURN n, r, m\n",
    "\n",
    "# Delete the the graph in Neo4J\n",
    "MATCH (n)\n",
    "DETACH DELETE n\n"
   ]
  },
  {
   "cell_type": "code",
   "execution_count": 1,
   "metadata": {
    "colab": {
     "base_uri": "https://localhost:8080/"
    },
    "id": "usWcdmOr7GAH",
    "outputId": "4c7eaf05-bbda-4e50-822a-3e7219d9d2dd"
   },
   "outputs": [
    {
     "name": "stdout",
     "output_type": "stream",
     "text": [
      "Note: you may need to restart the kernel to use updated packages.\n"
     ]
    }
   ],
   "source": [
    "%pip install --upgrade --quiet  langchain langchain-community langchain_ollama langchain-experimental neo4j wikipedia tiktoken yfiles_jupyter_graphs python-dotenv"
   ]
  },
  {
   "cell_type": "code",
   "execution_count": 15,
   "metadata": {},
   "outputs": [],
   "source": [
    "from langchain_community.vectorstores import Neo4jVector\n",
    "from langchain_community.graphs import Neo4jGraph\n",
    "from langchain_community.vectorstores.neo4j_vector import remove_lucene_chars\n",
    "\n",
    "from langchain_ollama import ChatOllama\n",
    "\n",
    "from langchain.schema import Document\n",
    "from langchain.document_loaders import WikipediaLoader\n",
    "from langchain.text_splitter import TokenTextSplitter\n",
    "from langchain_experimental.graph_transformers import LLMGraphTransformer\n",
    "\n",
    "\n",
    "from yfiles_jupyter_graphs import GraphWidget\n",
    "from neo4j import GraphDatabase\n",
    "\n",
    "import re\n",
    "import getpass\n",
    "import os\n",
    "from dotenv import load_dotenv\n"
   ]
  },
  {
   "cell_type": "code",
   "execution_count": 16,
   "metadata": {},
   "outputs": [],
   "source": [
    "# Load environment variables from .env file\n",
    "load_dotenv()\n",
    "\n",
    "# Set them in the OS environment\n",
    "os.environ[\"NEO4J_URI\"] = os.getenv(\"NEO4J_URI\")\n",
    "os.environ[\"NEO4J_USERNAME\"] = os.getenv(\"NEO4J_USERNAME\")\n",
    "os.environ[\"NEO4J_PASSWORD\"] = os.getenv(\"NEO4J_PASSWORD\")\n",
    "\n",
    "#Instantiate the Graph DB\n",
    "graph = Neo4jGraph()"
   ]
  },
  {
   "cell_type": "code",
   "execution_count": 10,
   "metadata": {},
   "outputs": [],
   "source": [
    "\n",
    "### Data Formatting ###\n",
    "\n",
    "# This text is form the website: https://huggingface.co/blog/open-r1\n",
    "blog= f\"\"\" Open-R1: a fully open reproduction of DeepSeek-R1\n",
    "What is DeepSeek-R1?\n",
    "If you’ve ever struggled with a tough math problem, you know how useful it is to think a little longer and work through it carefully. OpenAI’s o1 model showed that when LLMs are trained to do the same—by using more compute during inference—they get significantly better at solving reasoning tasks like mathematics, coding, and logic.\n",
    "However, the recipe behind OpenAI’s reasoning models has been a well kept secret. That is, until last week, when DeepSeek released their DeepSeek-R1 model and promptly broke the internet (and the stock market!).\n",
    "Besides performing as well or better than o1, the DeepSeek-R1 release was accompanied by a detailed tech report that outlined the key steps of their training recipe. This recipe involved several innovations, most notably the application of pure reinforcement learning to teach a base language model how to reason without any human supervision. As shown in the figure below, making a powerful reasoning model is now very simple if you have access to a capable base model and a high-quality data mixture.\n",
    "\n",
    "However, the DeepSeek-R1 release leaves open several questions about:\n",
    "•\tData collection: How were the reasoning-specific datasets curated?\n",
    "•\tModel training: No training code was released by DeepSeek, so it is unknown which hyperparameters work best and how they differ across different model families and scales.\n",
    "•\tScaling laws: What are the compute and data trade-offs in training reasoning models?\n",
    "\n",
    "These questions prompted us to launch the Open-R1 project, an initiative to systematically reconstruct DeepSeek-R1’s data and training pipeline, validate its claims, and push the boundaries of open reasoning models. By building Open-R1, we aim to provide transparency on how reinforcement learning can enhance reasoning, share reproducible insights with the open-source community, and create a foundation for future models to leverage these techniques.\n",
    "\n",
    "In this blog post we take a look at key ingredients behind DeepSeek-R1, which parts we plan to replicate, and how to contribute to the Open-R1 project.\n",
    "\n",
    "How did they do it?\n",
    "DeepSeek-R1 is a reasoning model built on the foundation of DeepSeek-V3. Like any good reasoning model, it starts with a strong base model, and DeepSeek-V3 is exactly that. This 671B Mixture of Experts (MoE) model performs on par with heavyweights like Sonnet 3.5 and GPT-4o. What’s especially impressive is how cost-efficient it was to train—just $5.5M—thanks to architectural changes like Multi Token Prediction (MTP), Multi-Head Latent Attention (MLA) and a LOT (seriously, a lot) of hardware optimization.\n",
    "\n",
    "DeepSeek also introduced two models: DeepSeek-R1-Zero and DeepSeek-R1, each with a distinct training approach. DeepSeek-R1-Zero skipped supervised fine-tuning altogether and relied entirely on reinforcement learning (RL), using Group Relative Policy Optimization (GRPO) to make the process more efficient. A simple reward system was used to guide the model, providing feedback based on the accuracy and structure of its answers. This approach helped the model develop useful reasoning skills, such as breaking problems into steps and verifying its own outputs. However, its responses often lacked clarity and were difficult to read.\n",
    "That’s where DeepSeek-R1 comes in. It started with a \"cold start\" phase, fine-tuning on a small set of carefully crafted examples to improve clarity and readability. From there, it went through more RL and refinement steps, including rejecting low-quality outputs with both human preference based and verifiable reward, to create a model that not only reasons well but also produces polished and consistent answers.\n",
    "This all sounds great, but what's actually missing? Let's have a look at the missing pieces of the puzzle.\n",
    "Open-R1: the missing pieces\n",
    "The release of DeepSeek-R1 is an amazing boon for the community, but they didn’t release everything—although the model weights are open, the datasets and code used to train the model are not.\n",
    "The goal of Open-R1 is to build these last missing pieces so that the whole research and industry community can build similar or better models using these recipes and datasets. And by doing this in the open, everybody in the community can contribute!\n",
    "As shown in the figure below, here’s our plan of attack\n",
    "•\tStep 1: Replicate the R1-Distill models by distilling a high-quality reasoning dataset from DeepSeek-R1.\n",
    "•\tStep 2: Replicate the pure RL pipeline that DeepSeek used to create R1-Zero. This will involve curating new, large-scale datasets for math, reasoning, and code.\n",
    "•\tStep 3: Show we can go from base model → SFT → RL via multi-stage training.\n",
    "\n",
    "The synthetic datasets will allow everybody to fine-tune existing or new LLMs into reasoning models by simply fine-tuning on them. The training recipes involving RL will serve as a starting point for anybody to build similar models from scratch and will allow researchers to build even more advanced methods on top.\n",
    "Note that we don’t want to stop at math datasets. There’s a lot of potential in exploring other areas, obvious one like code but also scientific fields such as medicine, where reasoning models could have significant impact.\n",
    "This initiative isn’t just about replicating results—it’s about sharing insights with the community. By documenting what works, what doesn’t, and why, we hope to save others from wasting time and compute on unproductive paths.\n",
    "\"\"\"\n",
    "\n",
    "### Text Splitting ###\n",
    "\n",
    "\n",
    "### Split text based sentences ###\n",
    "text_chunks = [sentence.strip() + \".\" for sentence in blog.split(\".\") if sentence.strip()]\n",
    "# Convert text chunks into Document objects\n",
    "documents = [Document(page_content=chunk) for chunk in text_chunks]\n",
    "\n",
    "### Split text into smaller chunks ###\n",
    "# splitter = TokenTextSplitter(chunk_size=100, chunk_overlap=5)\n",
    "# text_chunks = splitter.split_text(blog)  # Returns a list of strings\n",
    "# documents = [Document(page_content=chunk) for chunk in text_chunks]\n",
    "\n",
    "# For Wikipedia content uncomment this code\n",
    "# raw_documents = WikipediaLoader(query=\"DeepSeek\").load() #It get the webpage of DeepSeek.\n",
    "# text_splitter = TokenTextSplitter(chunk_size=512, chunk_overlap=24)\n",
    "# documents = text_splitter.split_documents(raw_documents)\n"
   ]
  },
  {
   "cell_type": "code",
   "execution_count": 13,
   "metadata": {
    "id": "IMh_IpRb78rs"
   },
   "outputs": [],
   "source": [
    "### Graph Construction ###\n",
    "#model_name=\"qwen2:7b\"\n",
    "#model_name=\"qwen2.5:32b\"\n",
    "model_name=\"mistral-small:24b\"\n",
    "\n",
    "# It initialise a language model.\n",
    "llm = ChatOllama(model=model_name, temperature=0, format=\"json\")\n",
    "# It interacts with graphs or graph-like data structures using a LLM.\n",
    "llm_transformer = LLMGraphTransformer(llm=llm,ignore_tool_usage=False) # ignore_tool_usage=False: For models that support tools set it to false. Otherwise, set it to true to allow prompt-based\n",
    "# It processes textual data and converts it into a graph representation (identify entities, relationships, or concepts).\n",
    "# Using async with LLM extraction is recommended, as it allows for parallel processing of multiple documents.\n",
    "graph_documents = llm_transformer.convert_to_graph_documents(documents) #Synchronous\n",
    "#graph_documents = await llm_transformer.aconvert_to_graph_documents(documents)\n",
    "\n",
    "# It adds graph documents to a graph database.\n",
    "# baseEntityLabel=True : the graph may include a generic label (e.g., Entity) for all nodes in addition to their specific labels (e.g., person or dynasty).\n",
    "# include_source=True : Determines whether to include the source information (metadata) from the original documents in the graph.\n",
    "graph.add_graph_documents(\n",
    "    graph_documents,\n",
    "    baseEntityLabel=True,\n",
    "    include_source=True\n",
    ")"
   ]
  },
  {
   "cell_type": "code",
   "execution_count": 14,
   "metadata": {
    "id": "rC-4O5FQ99yH"
   },
   "outputs": [
    {
     "data": {
      "application/vnd.jupyter.widget-view+json": {
       "model_id": "8c87d004e763492bb1d3dd5d867c2be2",
       "version_major": 2,
       "version_minor": 0
      },
      "text/plain": [
       "GraphWidget(layout=Layout(height='500px', width='100%'))"
      ]
     },
     "metadata": {},
     "output_type": "display_data"
    },
    {
     "data": {
      "application/vnd.jupyter.widget-view+json": {
       "model_id": "8c87d004e763492bb1d3dd5d867c2be2",
       "version_major": 2,
       "version_minor": 0
      },
      "text/plain": [
       "GraphWidget(layout=Layout(height='500px', width='100%'))"
      ]
     },
     "metadata": {},
     "output_type": "display_data"
    }
   ],
   "source": [
    "### Ploting the Graph ###\n",
    "\n",
    "# It finds relationships between nodes where the relationship type is NOT \"MENTIONS\".\n",
    "default_cypher = \"MATCH (s)-[r:!MENTIONS]->(t) RETURN s,r,t LIMIT 50\"\n",
    "#default_cypher = \"MATCH (s)-[r]->(t) WHERE NOT type(r) = 'MENTIONS' RETURN s,r,t LIMIT 50\"\n",
    "\n",
    "# GraphWidget: A visualisation tool for rendering and exploring graphs in Jupyter Notebooks.\n",
    "# GraphDatabase: The official Neo4j driver for querying and updating graph data in a Neo4j database.\n",
    "from yfiles_jupyter_graphs import GraphWidget\n",
    "from neo4j import GraphDatabase\n",
    "\n",
    "\n",
    "# It checks if the script is running in Google Colab and, if so, enable support for custom widgets.\n",
    "try:\n",
    "  import google.colab\n",
    "  from google.colab import output\n",
    "  output.enable_custom_widget_manager()\n",
    "except:\n",
    "  pass\n",
    "\n",
    "# It runs a Cypher query on a Neo4j graph database to retrieve data (nodes and relationships).\n",
    "# It visualises the graph data interactively using GraphWidget from the yfiles_jupyter_graphs library.\n",
    "def showGraph(cypher: str = default_cypher):\n",
    "    # create a neo4j session to run queries\n",
    "    driver = GraphDatabase.driver(\n",
    "        uri = os.environ[\"NEO4J_URI\"],\n",
    "        auth = (os.environ[\"NEO4J_USERNAME\"],\n",
    "                os.environ[\"NEO4J_PASSWORD\"]))\n",
    "    session = driver.session()\n",
    "    widget = GraphWidget(graph = session.run(cypher).graph())\n",
    "    widget.node_label_mapping = 'id'\n",
    "    display(widget)\n",
    "    return widget\n",
    "\n",
    "\n",
    "showGraph()"
   ]
  },
  {
   "cell_type": "code",
   "execution_count": null,
   "metadata": {},
   "outputs": [],
   "source": []
  }
 ],
 "metadata": {
  "colab": {
   "provenance": []
  },
  "kernelspec": {
   "display_name": "Python 3 (ipykernel)",
   "language": "python",
   "name": "python3"
  },
  "language_info": {
   "codemirror_mode": {
    "name": "ipython",
    "version": 3
   },
   "file_extension": ".py",
   "mimetype": "text/x-python",
   "name": "python",
   "nbconvert_exporter": "python",
   "pygments_lexer": "ipython3",
   "version": "3.12.2"
  },
  "widgets": {
   "application/vnd.jupyter.widget-state+json": {
    "3b2c74d69a9c494a864829974deef591": {
     "model_module": "yfiles-jupyter-graphs",
     "model_module_version": "^1.10.1",
     "model_name": "GraphModel",
     "state": {
      "_context_pane_mapping": [
       {
        "id": "Neighborhood",
        "title": "Neighborhood"
       },
       {
        "id": "Data",
        "title": "Data"
       },
       {
        "id": "Search",
        "title": "Search"
       },
       {
        "id": "About",
        "title": "About"
       }
      ],
      "_data_importer": "neo4j",
      "_directed": true,
      "_dom_classes": [],
      "_edges": [
       {
        "color": "#F44336",
        "directed": true,
        "end": 118,
        "id": 1152955589467308000,
        "label": "MEMBER_OF",
        "properties": {
         "label": "MEMBER_OF"
        },
        "start": 115,
        "styles": {},
        "thickness_factor": 1
       },
       {
        "color": "#607D8B",
        "directed": true,
        "end": 116,
        "id": 1152956688978935800,
        "label": "CHILD_OF",
        "properties": {
         "label": "CHILD_OF"
        },
        "start": 115,
        "styles": {},
        "thickness_factor": 1
       },
       {
        "color": "#607D8B",
        "directed": true,
        "end": 117,
        "id": 1155208488792621000,
        "label": "CHILD_OF",
        "properties": {
         "label": "CHILD_OF"
        },
        "start": 115,
        "styles": {},
        "thickness_factor": 1
       },
       {
        "color": "#673AB7",
        "directed": true,
        "end": 120,
        "id": 1152959987513819100,
        "label": "SIBLING_OF",
        "properties": {
         "label": "SIBLING_OF"
        },
        "start": 115,
        "styles": {},
        "thickness_factor": 1
       },
       {
        "color": "#673AB7",
        "directed": true,
        "end": 122,
        "id": 1155211787327504400,
        "label": "SIBLING_OF",
        "properties": {
         "label": "SIBLING_OF"
        },
        "start": 115,
        "styles": {},
        "thickness_factor": 1
       },
       {
        "color": "#CDDC39",
        "directed": true,
        "end": 123,
        "id": 1152963286048702500,
        "label": "ADVISED_BY",
        "properties": {
         "label": "ADVISED_BY"
        },
        "start": 115,
        "styles": {},
        "thickness_factor": 1
       },
       {
        "color": "#9E9E9E",
        "directed": true,
        "end": 126,
        "id": 1152966584583585800,
        "label": "SUCCEEDED_BY",
        "properties": {
         "label": "SUCCEEDED_BY"
        },
        "start": 115,
        "styles": {},
        "thickness_factor": 1
       },
       {
        "color": "#9C27B0",
        "directed": true,
        "end": 128,
        "id": 1152967684095213600,
        "label": "PROTECTED_BY",
        "properties": {
         "label": "PROTECTED_BY"
        },
        "start": 115,
        "styles": {},
        "thickness_factor": 1
       },
       {
        "color": "#2196F3",
        "directed": true,
        "end": 122,
        "id": 6917632381734093000,
        "label": "SUCCEEDED",
        "properties": {
         "label": "SUCCEEDED"
        },
        "start": 115,
        "styles": {},
        "thickness_factor": 1
       },
       {
        "color": "#4CAF50",
        "directed": true,
        "end": 201,
        "id": 6917662068548043000,
        "label": "CORONATION_LOCATION",
        "properties": {
         "label": "CORONATION_LOCATION"
        },
        "start": 115,
        "styles": {},
        "thickness_factor": 1
       },
       {
        "color": "#F44336",
        "directed": true,
        "end": 202,
        "id": 6917663168059671000,
        "label": "CORONATION_DATE",
        "properties": {
         "label": "CORONATION_DATE"
        },
        "start": 115,
        "styles": {},
        "thickness_factor": 1
       },
       {
        "color": "#607D8B",
        "directed": true,
        "end": 129,
        "id": 6917820398222442000,
        "label": "TITLE",
        "properties": {
         "label": "TITLE"
        },
        "start": 115,
        "styles": {},
        "thickness_factor": 1
       },
       {
        "color": "#673AB7",
        "directed": true,
        "end": 119,
        "id": 1153213974699835400,
        "label": "NAMESAKE_OF",
        "properties": {
         "label": "NAMESAKE_OF"
        },
        "start": 115,
        "styles": {},
        "thickness_factor": 1
       },
       {
        "color": "#CDDC39",
        "directed": true,
        "end": 125,
        "id": 1153215074211463200,
        "label": "FOUNDER_OF",
        "properties": {
         "label": "FOUNDER_OF"
        },
        "start": 115,
        "styles": {},
        "thickness_factor": 1
       },
       {
        "color": "#9E9E9E",
        "directed": true,
        "end": 129,
        "id": 6917830293827092000,
        "label": "ASCENDED",
        "properties": {
         "label": "ASCENDED"
        },
        "start": 115,
        "styles": {},
        "thickness_factor": 1
       },
       {
        "color": "#9C27B0",
        "directed": true,
        "end": 205,
        "id": 6917832492850348000,
        "label": "INTENTION_TO_RESTORE",
        "properties": {
         "label": "INTENTION_TO_RESTORE"
        },
        "start": 115,
        "styles": {},
        "thickness_factor": 1
       },
       {
        "color": "#2196F3",
        "directed": true,
        "end": 206,
        "id": 6917833592361976000,
        "label": "COMPROMISE",
        "properties": {
         "label": "COMPROMISE"
        },
        "start": 115,
        "styles": {},
        "thickness_factor": 1
       },
       {
        "color": "#4CAF50",
        "directed": true,
        "end": 207,
        "id": 6917834691873604000,
        "label": "LOCATION_AT_ACCESSION",
        "properties": {
         "label": "LOCATION_AT_ACCESSION"
        },
        "start": 115,
        "styles": {},
        "thickness_factor": 1
       },
       {
        "color": "#F44336",
        "directed": true,
        "end": 125,
        "id": 1153191984467280000,
        "label": "ESTABLISHED",
        "properties": {
         "label": "ESTABLISHED"
        },
        "start": 116,
        "styles": {},
        "thickness_factor": 1
       },
       {
        "color": "#607D8B",
        "directed": true,
        "end": 140,
        "id": 1152974281164980200,
        "label": "MARITIME_ADVENTURER",
        "properties": {
         "label": "MARITIME_ADVENTURER"
        },
        "start": 119,
        "styles": {},
        "thickness_factor": 1
       },
       {
        "color": "#607D8B",
        "directed": true,
        "end": 141,
        "id": 1155226080978665500,
        "label": "MARITIME_ADVENTURER",
        "properties": {
         "label": "MARITIME_ADVENTURER"
        },
        "start": 119,
        "styles": {},
        "thickness_factor": 1
       },
       {
        "color": "#673AB7",
        "directed": true,
        "end": 138,
        "id": 1153220571769602000,
        "label": "LED_BY",
        "properties": {
         "label": "LED_BY"
        },
        "start": 119,
        "styles": {},
        "thickness_factor": 1
       },
       {
        "color": "#673AB7",
        "directed": true,
        "end": 139,
        "id": 1155472371583287300,
        "label": "LED_BY",
        "properties": {
         "label": "LED_BY"
        },
        "start": 119,
        "styles": {},
        "thickness_factor": 1
       },
       {
        "color": "#CDDC39",
        "directed": true,
        "end": 205,
        "id": 1153193083978907600,
        "label": "CONTINUED_REFORMS",
        "properties": {
         "label": "CONTINUED_REFORMS"
        },
        "start": 120,
        "styles": {},
        "thickness_factor": 1
       },
       {
        "color": "#9E9E9E",
        "directed": true,
        "end": 203,
        "id": 1152922604118474800,
        "label": "DEATH_DATE",
        "properties": {
         "label": "DEATH_DATE"
        },
        "start": 122,
        "styles": {},
        "thickness_factor": 1
       },
       {
        "color": "#9C27B0",
        "directed": true,
        "end": 204,
        "id": 1153194183490535400,
        "label": "RESTORED",
        "properties": {
         "label": "RESTORED"
        },
        "start": 122,
        "styles": {},
        "thickness_factor": 1
       },
       {
        "color": "#2196F3",
        "directed": true,
        "end": 204,
        "id": 1153223870304485400,
        "label": "AFFILIATION",
        "properties": {
         "label": "AFFILIATION"
        },
        "start": 122,
        "styles": {},
        "thickness_factor": 1
       },
       {
        "color": "#607D8B",
        "directed": true,
        "end": 124,
        "id": 1153212875188207600,
        "label": "TITLE",
        "properties": {
         "label": "TITLE"
        },
        "start": 123,
        "styles": {},
        "thickness_factor": 1
       },
       {
        "color": "#607D8B",
        "directed": true,
        "end": 127,
        "id": 1152956688978935800,
        "label": "CHILD_OF",
        "properties": {
         "label": "CHILD_OF"
        },
        "start": 126,
        "styles": {},
        "thickness_factor": 1
       },
       {
        "color": "#4CAF50",
        "directed": true,
        "end": 146,
        "id": 1152921504606847200,
        "label": "BIRTH_DATE",
        "properties": {
         "label": "BIRTH_DATE"
        },
        "start": 131,
        "styles": {},
        "thickness_factor": 1
       },
       {
        "color": "#607D8B",
        "directed": true,
        "end": 144,
        "id": 1152956688978936000,
        "label": "CHILD_OF",
        "properties": {
         "label": "CHILD_OF"
        },
        "start": 131,
        "styles": {},
        "thickness_factor": 1
       },
       {
        "color": "#607D8B",
        "directed": true,
        "end": 191,
        "id": 6917564212013171000,
        "label": "CHILD_OF",
        "properties": {
         "label": "CHILD_OF"
        },
        "start": 131,
        "styles": {},
        "thickness_factor": 1
       },
       {
        "color": "#607D8B",
        "directed": true,
        "end": 192,
        "id": 6917564212013171000,
        "label": "CHILD_OF",
        "properties": {
         "label": "CHILD_OF"
        },
        "start": 131,
        "styles": {},
        "thickness_factor": 1
       },
       {
        "color": "#673AB7",
        "directed": true,
        "end": 154,
        "id": 6917567510548054000,
        "label": "SIBLING_OF",
        "properties": {
         "label": "SIBLING_OF"
        },
        "start": 131,
        "styles": {},
        "thickness_factor": 1
       },
       {
        "color": "#673AB7",
        "directed": true,
        "end": 198,
        "id": 6917567510548054000,
        "label": "SIBLING_OF",
        "properties": {
         "label": "SIBLING_OF"
        },
        "start": 131,
        "styles": {},
        "thickness_factor": 1
       },
       {
        "color": "#F44336",
        "directed": true,
        "end": 142,
        "id": 1152976480188236000,
        "label": "NAMED_AFTER",
        "properties": {
         "label": "NAMED_AFTER"
        },
        "start": 131,
        "styles": {},
        "thickness_factor": 1
       },
       {
        "color": "#F44336",
        "directed": true,
        "end": 143,
        "id": 1155228280001921300,
        "label": "NAMED_AFTER",
        "properties": {
         "label": "NAMED_AFTER"
        },
        "start": 131,
        "styles": {},
        "thickness_factor": 1
       },
       {
        "color": "#607D8B",
        "directed": true,
        "end": 145,
        "id": 1152991873351025000,
        "label": "BORN_IN",
        "properties": {
         "label": "BORN_IN"
        },
        "start": 131,
        "styles": {},
        "thickness_factor": 1
       },
       {
        "color": "#673AB7",
        "directed": true,
        "end": 190,
        "id": 6917600495896887000,
        "label": "BORN_NEAR",
        "properties": {
         "label": "BORN_NEAR"
        },
        "start": 131,
        "styles": {},
        "thickness_factor": 1
       },
       {
        "color": "#CDDC39",
        "directed": true,
        "end": 197,
        "id": 6917609291989910000,
        "label": "GIVEN_TITLE",
        "properties": {
         "label": "GIVEN_TITLE"
        },
        "start": 131,
        "styles": {},
        "thickness_factor": 1
       },
       {
        "color": "#9E9E9E",
        "directed": true,
        "end": 189,
        "id": 6917644476361998000,
        "label": "BORN_AT",
        "properties": {
         "label": "BORN_AT"
        },
        "start": 131,
        "styles": {},
        "thickness_factor": 1
       },
       {
        "color": "#9C27B0",
        "directed": true,
        "end": 132,
        "id": 1155332733606560000,
        "label": "SUPPORTED_CAMPAIGNS_IN",
        "properties": {
         "label": "SUPPORTED_CAMPAIGNS_IN"
        },
        "start": 131,
        "styles": {},
        "thickness_factor": 1
       },
       {
        "color": "#9C27B0",
        "directed": true,
        "end": 134,
        "id": 1153080933792874800,
        "label": "SUPPORTED_CAMPAIGNS_IN",
        "properties": {
         "label": "SUPPORTED_CAMPAIGNS_IN"
        },
        "start": 131,
        "styles": {},
        "thickness_factor": 1
       },
       {
        "color": "#9C27B0",
        "directed": true,
        "end": 135,
        "id": 1157584533420245200,
        "label": "SUPPORTED_CAMPAIGNS_IN",
        "properties": {
         "label": "SUPPORTED_CAMPAIGNS_IN"
        },
        "start": 131,
        "styles": {},
        "thickness_factor": 1
       },
       {
        "color": "#2196F3",
        "directed": true,
        "end": 212,
        "id": 6917701650966643000,
        "label": "CONSULTED",
        "properties": {
         "label": "CONSULTED"
        },
        "start": 131,
        "styles": {},
        "thickness_factor": 1
       },
       {
        "color": "#4CAF50",
        "directed": true,
        "end": 215,
        "id": 6917812701641048000,
        "label": "PARTICIPATED_IN",
        "properties": {
         "label": "PARTICIPATED_IN"
        },
        "start": 131,
        "styles": {},
        "thickness_factor": 1
       },
       {
        "color": "#F44336",
        "directed": true,
        "end": 128,
        "id": 1153216173723091200,
        "label": "RUN_BY",
        "properties": {
         "label": "RUN_BY"
        },
        "start": 131,
        "styles": {},
        "thickness_factor": 1
       },
       {
        "color": "#607D8B",
        "directed": true,
        "end": 132,
        "id": 1153217273234719000,
        "label": "MANOEUVRING_BETWEEN",
        "properties": {
         "label": "MANOEUVRING_BETWEEN"
        },
        "start": 131,
        "styles": {},
        "thickness_factor": 1
       },
       {
        "color": "#607D8B",
        "directed": true,
        "end": 133,
        "id": 1155469073048404200,
        "label": "MANOEUVRING_BETWEEN",
        "properties": {
         "label": "MANOEUVRING_BETWEEN"
        },
        "start": 131,
        "styles": {},
        "thickness_factor": 1
       },
       {
        "color": "#673AB7",
        "directed": true,
        "end": 137,
        "id": 1153219472257974500,
        "label": "DEFEATED",
        "properties": {
         "label": "DEFEATED"
        },
        "start": 131,
        "styles": {},
        "thickness_factor": 1
       }
      ],
      "_graph_layout": {},
      "_highlight": [],
      "_license": {},
      "_model_module": "yfiles-jupyter-graphs",
      "_model_module_version": "^1.10.1",
      "_model_name": "GraphModel",
      "_neighborhood": {},
      "_nodes": [
       {
        "color": "#2196F3",
        "id": 115,
        "label": "Elizabeth I",
        "position": [
         0,
         0
        ],
        "properties": {
         "id": "Elizabeth I",
         "label": "Person:__Entity__"
        },
        "scale_factor": 1,
        "size": [
         55,
         55
        ],
        "styles": {},
        "type": "#2196F3"
       },
       {
        "color": "#4CAF50",
        "id": 118,
        "label": "House Of Tudor",
        "position": [
         0,
         0
        ],
        "properties": {
         "id": "House Of Tudor",
         "label": "Organization:__Entity__"
        },
        "scale_factor": 1,
        "size": [
         55,
         55
        ],
        "styles": {},
        "type": "#4CAF50"
       },
       {
        "color": "#2196F3",
        "id": 116,
        "label": "Henry Viii",
        "position": [
         0,
         0
        ],
        "properties": {
         "id": "Henry Viii",
         "label": "Person:__Entity__"
        },
        "scale_factor": 1,
        "size": [
         55,
         55
        ],
        "styles": {},
        "type": "#2196F3"
       },
       {
        "color": "#2196F3",
        "id": 117,
        "label": "Anne Boleyn",
        "position": [
         0,
         0
        ],
        "properties": {
         "id": "Anne Boleyn",
         "label": "Person:__Entity__"
        },
        "scale_factor": 1,
        "size": [
         55,
         55
        ],
        "styles": {},
        "type": "#2196F3"
       },
       {
        "color": "#2196F3",
        "id": 120,
        "label": "Edward Vi",
        "position": [
         0,
         0
        ],
        "properties": {
         "id": "Edward Vi",
         "label": "Person:__Entity__"
        },
        "scale_factor": 1,
        "size": [
         55,
         55
        ],
        "styles": {},
        "type": "#2196F3"
       },
       {
        "color": "#2196F3",
        "id": 122,
        "label": "Mary I",
        "position": [
         0,
         0
        ],
        "properties": {
         "id": "Mary I",
         "label": "Person:__Entity__"
        },
        "scale_factor": 1,
        "size": [
         55,
         55
        ],
        "styles": {},
        "type": "#2196F3"
       },
       {
        "color": "#2196F3",
        "id": 123,
        "label": "William Cecil",
        "position": [
         0,
         0
        ],
        "properties": {
         "id": "William Cecil",
         "label": "Person:__Entity__"
        },
        "scale_factor": 1,
        "size": [
         55,
         55
        ],
        "styles": {},
        "type": "#2196F3"
       },
       {
        "color": "#2196F3",
        "id": 126,
        "label": "James Vi Of Scotland",
        "position": [
         0,
         0
        ],
        "properties": {
         "id": "James Vi Of Scotland",
         "label": "Person:__Entity__"
        },
        "scale_factor": 1,
        "size": [
         55,
         55
        ],
        "styles": {},
        "type": "#2196F3"
       },
       {
        "color": "#2196F3",
        "id": 128,
        "label": "Sir Francis Walsingham",
        "position": [
         0,
         0
        ],
        "properties": {
         "id": "Sir Francis Walsingham",
         "label": "Person:__Entity__"
        },
        "scale_factor": 1,
        "size": [
         55,
         55
        ],
        "styles": {},
        "type": "#2196F3"
       },
       {
        "color": "#F44336",
        "id": 201,
        "label": "Westminster Abbey, London",
        "position": [
         0,
         0
        ],
        "properties": {
         "id": "Westminster Abbey, London",
         "label": "Location:__Entity__"
        },
        "scale_factor": 1,
        "size": [
         55,
         55
        ],
        "styles": {},
        "type": "#F44336"
       },
       {
        "color": "#607D8B",
        "id": 202,
        "label": "15 January 1559",
        "position": [
         0,
         0
        ],
        "properties": {
         "id": "15 January 1559",
         "label": "Date:__Entity__"
        },
        "scale_factor": 1,
        "size": [
         55,
         55
        ],
        "styles": {},
        "type": "#607D8B"
       },
       {
        "color": "#673AB7",
        "id": 129,
        "label": "Queen Of England And Ireland",
        "position": [
         0,
         0
        ],
        "properties": {
         "id": "Queen Of England And Ireland",
         "label": "Title:__Entity__"
        },
        "scale_factor": 1,
        "size": [
         55,
         55
        ],
        "styles": {},
        "type": "#673AB7"
       },
       {
        "color": "#CDDC39",
        "id": 119,
        "label": "Elizabethan Era",
        "position": [
         0,
         0
        ],
        "properties": {
         "id": "Elizabethan Era",
         "label": "Time period:Event:__Entity__"
        },
        "scale_factor": 1,
        "size": [
         55,
         55
        ],
        "styles": {},
        "type": "#CDDC39"
       },
       {
        "color": "#4CAF50",
        "id": 125,
        "label": "Church Of England",
        "position": [
         0,
         0
        ],
        "properties": {
         "id": "Church Of England",
         "label": "Organization:__Entity__"
        },
        "scale_factor": 1,
        "size": [
         55,
         55
        ],
        "styles": {},
        "type": "#4CAF50"
       },
       {
        "color": "#9E9E9E",
        "id": 205,
        "label": "Protestantism",
        "position": [
         0,
         0
        ],
        "properties": {
         "id": "Protestantism",
         "label": "Religion:__Entity__"
        },
        "scale_factor": 1,
        "size": [
         55,
         55
        ],
        "styles": {},
        "type": "#9E9E9E"
       },
       {
        "color": "#9C27B0",
        "id": 206,
        "label": "Elizabethan Settlement",
        "position": [
         0,
         0
        ],
        "properties": {
         "id": "Elizabethan Settlement",
         "label": "Event:__Entity__"
        },
        "scale_factor": 1,
        "size": [
         55,
         55
        ],
        "styles": {},
        "type": "#9C27B0"
       },
       {
        "color": "#F44336",
        "id": 207,
        "label": "Hatfield House",
        "position": [
         0,
         0
        ],
        "properties": {
         "id": "Hatfield House",
         "label": "Location:__Entity__"
        },
        "scale_factor": 1,
        "size": [
         55,
         55
        ],
        "styles": {},
        "type": "#F44336"
       },
       {
        "color": "#2196F3",
        "id": 140,
        "label": "Francis Drake",
        "position": [
         0,
         0
        ],
        "properties": {
         "id": "Francis Drake",
         "label": "Person:__Entity__"
        },
        "scale_factor": 1,
        "size": [
         55,
         55
        ],
        "styles": {},
        "type": "#2196F3"
       },
       {
        "color": "#2196F3",
        "id": 141,
        "label": "Walter Raleigh",
        "position": [
         0,
         0
        ],
        "properties": {
         "id": "Walter Raleigh",
         "label": "Person:__Entity__"
        },
        "scale_factor": 1,
        "size": [
         55,
         55
        ],
        "styles": {},
        "type": "#2196F3"
       },
       {
        "color": "#2196F3",
        "id": 138,
        "label": "William Shakespeare",
        "position": [
         0,
         0
        ],
        "properties": {
         "id": "William Shakespeare",
         "label": "Person:__Entity__"
        },
        "scale_factor": 1,
        "size": [
         55,
         55
        ],
        "styles": {},
        "type": "#2196F3"
       },
       {
        "color": "#2196F3",
        "id": 139,
        "label": "Christopher Marlowe",
        "position": [
         0,
         0
        ],
        "properties": {
         "id": "Christopher Marlowe",
         "label": "Person:__Entity__"
        },
        "scale_factor": 1,
        "size": [
         55,
         55
        ],
        "styles": {},
        "type": "#2196F3"
       },
       {
        "color": "#607D8B",
        "id": 203,
        "label": "17 November 1558",
        "position": [
         0,
         0
        ],
        "properties": {
         "id": "17 November 1558",
         "label": "Date:__Entity__"
        },
        "scale_factor": 1,
        "size": [
         55,
         55
        ],
        "styles": {},
        "type": "#607D8B"
       },
       {
        "color": "#4CAF50",
        "id": 204,
        "label": "Catholic Church",
        "position": [
         0,
         0
        ],
        "properties": {
         "id": "Catholic Church",
         "label": "Organization:__Entity__"
        },
        "scale_factor": 1,
        "size": [
         55,
         55
        ],
        "styles": {},
        "type": "#4CAF50"
       },
       {
        "color": "#673AB7",
        "id": 124,
        "label": "Baron Burghley",
        "position": [
         0,
         0
        ],
        "properties": {
         "id": "Baron Burghley",
         "label": "Title:__Entity__"
        },
        "scale_factor": 1,
        "size": [
         55,
         55
        ],
        "styles": {},
        "type": "#673AB7"
       },
       {
        "color": "#2196F3",
        "id": 127,
        "label": "Mary, Queen Of Scots",
        "position": [
         0,
         0
        ],
        "properties": {
         "id": "Mary, Queen Of Scots",
         "label": "Person:__Entity__"
        },
        "scale_factor": 1,
        "size": [
         55,
         55
        ],
        "styles": {},
        "type": "#2196F3"
       },
       {
        "color": "#2196F3",
        "id": 131,
        "label": "Elizabeth",
        "position": [
         0,
         0
        ],
        "properties": {
         "id": "Elizabeth",
         "label": "Person:__Entity__"
        },
        "scale_factor": 1,
        "size": [
         55,
         55
        ],
        "styles": {},
        "type": "#2196F3"
       },
       {
        "color": "#607D8B",
        "id": 146,
        "label": "7 September 1533",
        "position": [
         0,
         0
        ],
        "properties": {
         "id": "7 September 1533",
         "label": "Date:__Entity__"
        },
        "scale_factor": 1,
        "size": [
         55,
         55
        ],
        "styles": {},
        "type": "#607D8B"
       },
       {
        "color": "#2196F3",
        "id": 144,
        "label": "Henry Viii Of England",
        "position": [
         0,
         0
        ],
        "properties": {
         "id": "Henry Viii Of England",
         "label": "Person:__Entity__"
        },
        "scale_factor": 1,
        "size": [
         55,
         55
        ],
        "styles": {},
        "type": "#2196F3"
       },
       {
        "color": "#2196F3",
        "id": 191,
        "label": "Peter The Great",
        "position": [
         0,
         0
        ],
        "properties": {
         "id": "Peter The Great",
         "label": "Person:__Entity__"
        },
        "scale_factor": 1,
        "size": [
         55,
         55
        ],
        "styles": {},
        "type": "#2196F3"
       },
       {
        "color": "#2196F3",
        "id": 192,
        "label": "Catherine",
        "position": [
         0,
         0
        ],
        "properties": {
         "id": "Catherine",
         "label": "Person:__Entity__"
        },
        "scale_factor": 1,
        "size": [
         55,
         55
        ],
        "styles": {},
        "type": "#2196F3"
       },
       {
        "color": "#2196F3",
        "id": 154,
        "label": "Anna",
        "position": [
         0,
         0
        ],
        "properties": {
         "id": "Anna",
         "label": "Person:__Entity__"
        },
        "scale_factor": 1,
        "size": [
         55,
         55
        ],
        "styles": {},
        "type": "#2196F3"
       },
       {
        "color": "#2196F3",
        "id": 198,
        "label": "Alexei Petrovich",
        "position": [
         0,
         0
        ],
        "properties": {
         "id": "Alexei Petrovich",
         "label": "Person:__Entity__"
        },
        "scale_factor": 1,
        "size": [
         55,
         55
        ],
        "styles": {},
        "type": "#2196F3"
       },
       {
        "color": "#2196F3",
        "id": 142,
        "label": "Elizabeth Of York",
        "position": [
         0,
         0
        ],
        "properties": {
         "id": "Elizabeth Of York",
         "label": "Person:__Entity__"
        },
        "scale_factor": 1,
        "size": [
         55,
         55
        ],
        "styles": {},
        "type": "#2196F3"
       },
       {
        "color": "#2196F3",
        "id": 143,
        "label": "Lady Elizabeth Howard",
        "position": [
         0,
         0
        ],
        "properties": {
         "id": "Lady Elizabeth Howard",
         "label": "Person:__Entity__"
        },
        "scale_factor": 1,
        "size": [
         55,
         55
        ],
        "styles": {},
        "type": "#2196F3"
       },
       {
        "color": "#2196F3",
        "id": 145,
        "label": "Greenwich Palace",
        "position": [
         0,
         0
        ],
        "properties": {
         "id": "Greenwich Palace",
         "label": "Place:__Entity__"
        },
        "scale_factor": 1,
        "size": [
         55,
         55
        ],
        "styles": {},
        "type": "#2196F3"
       },
       {
        "color": "#2196F3",
        "id": 190,
        "label": "Moscow",
        "position": [
         0,
         0
        ],
        "properties": {
         "id": "Moscow",
         "label": "Place:__Entity__"
        },
        "scale_factor": 1,
        "size": [
         55,
         55
        ],
        "styles": {},
        "type": "#2196F3"
       },
       {
        "color": "#673AB7",
        "id": 197,
        "label": "Tsarevna",
        "position": [
         0,
         0
        ],
        "properties": {
         "id": "Tsarevna",
         "label": "Title:__Entity__"
        },
        "scale_factor": 1,
        "size": [
         55,
         55
        ],
        "styles": {},
        "type": "#673AB7"
       },
       {
        "color": "#2196F3",
        "id": 189,
        "label": "Kolomenskoye",
        "position": [
         0,
         0
        ],
        "properties": {
         "id": "Kolomenskoye",
         "label": "Place:__Entity__"
        },
        "scale_factor": 1,
        "size": [
         55,
         55
        ],
        "styles": {},
        "type": "#2196F3"
       },
       {
        "color": "#4CAF50",
        "id": 132,
        "label": "France",
        "position": [
         0,
         0
        ],
        "properties": {
         "id": "France",
         "label": "Country:__Entity__"
        },
        "scale_factor": 1,
        "size": [
         55,
         55
        ],
        "styles": {},
        "type": "#4CAF50"
       },
       {
        "color": "#4CAF50",
        "id": 134,
        "label": "Netherlands",
        "position": [
         0,
         0
        ],
        "properties": {
         "id": "Netherlands",
         "label": "Country:__Entity__"
        },
        "scale_factor": 1,
        "size": [
         55,
         55
        ],
        "styles": {},
        "type": "#4CAF50"
       },
       {
        "color": "#4CAF50",
        "id": 135,
        "label": "Ireland",
        "position": [
         0,
         0
        ],
        "properties": {
         "id": "Ireland",
         "label": "Country:__Entity__"
        },
        "scale_factor": 1,
        "size": [
         55,
         55
        ],
        "styles": {},
        "type": "#4CAF50"
       },
       {
        "color": "#2196F3",
        "id": 212,
        "label": "Sir Nicholas Bacon",
        "position": [
         0,
         0
        ],
        "properties": {
         "id": "Sir Nicholas Bacon",
         "label": "Person:__Entity__"
        },
        "scale_factor": 1,
        "size": [
         55,
         55
        ],
        "styles": {},
        "type": "#2196F3"
       },
       {
        "color": "#9C27B0",
        "id": 215,
        "label": "Coronation",
        "position": [
         0,
         0
        ],
        "properties": {
         "id": "Coronation",
         "label": "Event:__Entity__"
        },
        "scale_factor": 1,
        "size": [
         55,
         55
        ],
        "styles": {},
        "type": "#9C27B0"
       },
       {
        "color": "#4CAF50",
        "id": 133,
        "label": "Spain",
        "position": [
         0,
         0
        ],
        "properties": {
         "id": "Spain",
         "label": "Country:__Entity__"
        },
        "scale_factor": 1,
        "size": [
         55,
         55
        ],
        "styles": {},
        "type": "#4CAF50"
       },
       {
        "color": "#9C27B0",
        "id": 137,
        "label": "Spanish Armada",
        "position": [
         0,
         0
        ],
        "properties": {
         "id": "Spanish Armada",
         "label": "Event:__Entity__"
        },
        "scale_factor": 1,
        "size": [
         55,
         55
        ],
        "styles": {},
        "type": "#9C27B0"
       }
      ],
      "_overview": {
       "enabled": null,
       "overview_set": false
      },
      "_selected_graph": [
       [],
       []
      ],
      "_sidebar": {
       "enabled": false,
       "start_with": null
      },
      "_view_count": null,
      "_view_module": "yfiles-jupyter-graphs",
      "_view_module_version": "^1.10.1",
      "_view_name": "GraphView",
      "layout": "IPY_MODEL_f11152ccad304d30945213df30029f44",
      "tabbable": null,
      "tooltip": null
     }
    },
    "f11152ccad304d30945213df30029f44": {
     "model_module": "@jupyter-widgets/base",
     "model_module_version": "2.0.0",
     "model_name": "LayoutModel",
     "state": {
      "_model_module": "@jupyter-widgets/base",
      "_model_module_version": "2.0.0",
      "_model_name": "LayoutModel",
      "_view_count": null,
      "_view_module": "@jupyter-widgets/base",
      "_view_module_version": "2.0.0",
      "_view_name": "LayoutView",
      "align_content": null,
      "align_items": null,
      "align_self": null,
      "border_bottom": null,
      "border_left": null,
      "border_right": null,
      "border_top": null,
      "bottom": null,
      "display": null,
      "flex": null,
      "flex_flow": null,
      "grid_area": null,
      "grid_auto_columns": null,
      "grid_auto_flow": null,
      "grid_auto_rows": null,
      "grid_column": null,
      "grid_gap": null,
      "grid_row": null,
      "grid_template_areas": null,
      "grid_template_columns": null,
      "grid_template_rows": null,
      "height": "800px",
      "justify_content": null,
      "justify_items": null,
      "left": null,
      "margin": null,
      "max_height": null,
      "max_width": null,
      "min_height": null,
      "min_width": null,
      "object_fit": null,
      "object_position": null,
      "order": null,
      "overflow": null,
      "padding": null,
      "right": null,
      "top": null,
      "visibility": null,
      "width": "100%"
     }
    }
   }
  }
 },
 "nbformat": 4,
 "nbformat_minor": 4
}
